{
 "cells": [
  {
   "cell_type": "code",
   "execution_count": 1,
   "metadata": {},
   "outputs": [],
   "source": [
    "import pandas as pd"
   ]
  },
  {
   "cell_type": "code",
   "execution_count": 3,
   "metadata": {},
   "outputs": [
    {
     "data": {
      "text/html": [
       "<div>\n",
       "<style scoped>\n",
       "    .dataframe tbody tr th:only-of-type {\n",
       "        vertical-align: middle;\n",
       "    }\n",
       "\n",
       "    .dataframe tbody tr th {\n",
       "        vertical-align: top;\n",
       "    }\n",
       "\n",
       "    .dataframe thead th {\n",
       "        text-align: right;\n",
       "    }\n",
       "</style>\n",
       "<table border=\"1\" class=\"dataframe\">\n",
       "  <thead>\n",
       "    <tr style=\"text-align: right;\">\n",
       "      <th></th>\n",
       "      <th>BookID</th>\n",
       "      <th>Author</th>\n",
       "      <th>Series</th>\n",
       "      <th>Genre</th>\n",
       "    </tr>\n",
       "  </thead>\n",
       "  <tbody>\n",
       "    <tr>\n",
       "      <th>0</th>\n",
       "      <td>259072</td>\n",
       "      <td>Jeffrey Zeldman</td>\n",
       "      <td>NaN</td>\n",
       "      <td>to-read</td>\n",
       "    </tr>\n",
       "    <tr>\n",
       "      <th>1</th>\n",
       "      <td>259072</td>\n",
       "      <td>Jeffrey Zeldman</td>\n",
       "      <td>NaN</td>\n",
       "      <td>design</td>\n",
       "    </tr>\n",
       "    <tr>\n",
       "      <th>2</th>\n",
       "      <td>259072</td>\n",
       "      <td>Jeffrey Zeldman</td>\n",
       "      <td>NaN</td>\n",
       "      <td>web-design</td>\n",
       "    </tr>\n",
       "    <tr>\n",
       "      <th>3</th>\n",
       "      <td>259072</td>\n",
       "      <td>Jeffrey Zeldman</td>\n",
       "      <td>NaN</td>\n",
       "      <td>currently-reading</td>\n",
       "    </tr>\n",
       "    <tr>\n",
       "      <th>4</th>\n",
       "      <td>259072</td>\n",
       "      <td>Jeffrey Zeldman</td>\n",
       "      <td>NaN</td>\n",
       "      <td>web</td>\n",
       "    </tr>\n",
       "  </tbody>\n",
       "</table>\n",
       "</div>"
      ],
      "text/plain": [
       "   BookID           Author Series              Genre\n",
       "0  259072  Jeffrey Zeldman    NaN            to-read\n",
       "1  259072  Jeffrey Zeldman    NaN             design\n",
       "2  259072  Jeffrey Zeldman    NaN         web-design\n",
       "3  259072  Jeffrey Zeldman    NaN  currently-reading\n",
       "4  259072  Jeffrey Zeldman    NaN                web"
      ]
     },
     "execution_count": 3,
     "metadata": {},
     "output_type": "execute_result"
    }
   ],
   "source": [
    "data = pd.read_csv('ml_data/clustering_data.csv')\n",
    "\n",
    "info = data[['BookID', 'Author', 'Series', 'Genre']]\n",
    "info.head()"
   ]
  },
  {
   "cell_type": "code",
   "execution_count": 5,
   "metadata": {},
   "outputs": [
    {
     "data": {
      "text/plain": [
       "array([259072, 483820, 483829, 483828, 483846, 483864, 483866, 483859,\n",
       "       483888, 483891], dtype=int64)"
      ]
     },
     "execution_count": 5,
     "metadata": {},
     "output_type": "execute_result"
    }
   ],
   "source": [
    "books = info.BookID.unique()\n",
    "books[:10]"
   ]
  },
  {
   "cell_type": "code",
   "execution_count": 7,
   "metadata": {},
   "outputs": [
    {
     "data": {
      "text/html": [
       "<div>\n",
       "<style scoped>\n",
       "    .dataframe tbody tr th:only-of-type {\n",
       "        vertical-align: middle;\n",
       "    }\n",
       "\n",
       "    .dataframe tbody tr th {\n",
       "        vertical-align: top;\n",
       "    }\n",
       "\n",
       "    .dataframe thead th {\n",
       "        text-align: right;\n",
       "    }\n",
       "</style>\n",
       "<table border=\"1\" class=\"dataframe\">\n",
       "  <thead>\n",
       "    <tr style=\"text-align: right;\">\n",
       "      <th></th>\n",
       "      <th>BookID</th>\n",
       "      <th>Author</th>\n",
       "      <th>Series</th>\n",
       "      <th>Genre</th>\n",
       "    </tr>\n",
       "  </thead>\n",
       "  <tbody>\n",
       "    <tr>\n",
       "      <th>163</th>\n",
       "      <td>483829</td>\n",
       "      <td>Maxine Swann</td>\n",
       "      <td>NaN</td>\n",
       "      <td>to-read</td>\n",
       "    </tr>\n",
       "    <tr>\n",
       "      <th>164</th>\n",
       "      <td>483829</td>\n",
       "      <td>Maxine Swann</td>\n",
       "      <td>NaN</td>\n",
       "      <td>fiction</td>\n",
       "    </tr>\n",
       "    <tr>\n",
       "      <th>165</th>\n",
       "      <td>483829</td>\n",
       "      <td>Maxine Swann</td>\n",
       "      <td>NaN</td>\n",
       "      <td>currently-reading</td>\n",
       "    </tr>\n",
       "    <tr>\n",
       "      <th>166</th>\n",
       "      <td>483829</td>\n",
       "      <td>Maxine Swann</td>\n",
       "      <td>NaN</td>\n",
       "      <td>book-club</td>\n",
       "    </tr>\n",
       "    <tr>\n",
       "      <th>167</th>\n",
       "      <td>483829</td>\n",
       "      <td>Maxine Swann</td>\n",
       "      <td>NaN</td>\n",
       "      <td>own</td>\n",
       "    </tr>\n",
       "  </tbody>\n",
       "</table>\n",
       "</div>"
      ],
      "text/plain": [
       "     BookID        Author Series              Genre\n",
       "163  483829  Maxine Swann    NaN            to-read\n",
       "164  483829  Maxine Swann    NaN            fiction\n",
       "165  483829  Maxine Swann    NaN  currently-reading\n",
       "166  483829  Maxine Swann    NaN          book-club\n",
       "167  483829  Maxine Swann    NaN                own"
      ]
     },
     "execution_count": 7,
     "metadata": {},
     "output_type": "execute_result"
    }
   ],
   "source": [
    "samp = info[info.BookID == 483829]\n",
    "\n",
    "samp.head()"
   ]
  },
  {
   "cell_type": "code",
   "execution_count": 19,
   "metadata": {},
   "outputs": [
    {
     "data": {
      "text/plain": [
       "nan"
      ]
     },
     "execution_count": 19,
     "metadata": {},
     "output_type": "execute_result"
    }
   ],
   "source": [
    "series = samp.Series.values[0]\n",
    "series"
   ]
  },
  {
   "cell_type": "code",
   "execution_count": 20,
   "metadata": {},
   "outputs": [
    {
     "name": "stdout",
     "output_type": "stream",
     "text": [
      "False True\n"
     ]
    }
   ],
   "source": [
    "def isnan(x):\n",
    "    return x != x\n",
    "\n",
    "print(isnan(1), isnan(series))"
   ]
  },
  {
   "cell_type": "code",
   "execution_count": 22,
   "metadata": {},
   "outputs": [
    {
     "data": {
      "text/plain": [
       "['Maxine Swann', 'none']"
      ]
     },
     "execution_count": 22,
     "metadata": {},
     "output_type": "execute_result"
    }
   ],
   "source": [
    "sample_info = [samp.Author.values[0]]\n",
    "\n",
    "if isnan(series):\n",
    "    sample_info.append('none')\n",
    "else:\n",
    "    sample_info.append(series)\n",
    "    \n",
    "sample_info"
   ]
  },
  {
   "cell_type": "code",
   "execution_count": 23,
   "metadata": {},
   "outputs": [
    {
     "data": {
      "text/plain": [
       "['Maxine Swann',\n",
       " 'none',\n",
       " 'to-read',\n",
       " 'fiction',\n",
       " 'currently-reading',\n",
       " 'book-club',\n",
       " 'own',\n",
       " 'short-stories',\n",
       " 'memoir',\n",
       " 'my-books',\n",
       " 'default',\n",
       " 'favorites',\n",
       " 'books-i-own',\n",
       " 'novels',\n",
       " 'memoir-biography',\n",
       " 'to-read-own',\n",
       " 'wishlist',\n",
       " 'literary-fiction',\n",
       " 'bookclub',\n",
       " 'owned',\n",
       " 'my-library',\n",
       " 'non-fiction',\n",
       " 'want-to-read',\n",
       " 'historical-fiction',\n",
       " 'coming-of-age',\n",
       " 'novel',\n",
       " 'contos',\n",
       " 'read-a-long-time-ago',\n",
       " 'faves',\n",
       " 'dnf',\n",
       " 'books-i-own-and-have-read',\n",
       " 'hardcover',\n",
       " 'kindle-owned',\n",
       " 'not-interested',\n",
       " 'home-library',\n",
       " 'english-books-i-own-and-read',\n",
       " 'ex-libris',\n",
       " 'pennsylvania',\n",
       " 'not-my-cuppa',\n",
       " 'books-i-want-to-read',\n",
       " 'present-books',\n",
       " 'mom-s-library',\n",
       " 'vicarious-travel-and-culture',\n",
       " 'tuesday-book-club',\n",
       " 'to-read-non-fantasy',\n",
       " 'short',\n",
       " 'oy-vey-my-awful-childhood',\n",
       " 'hippie-granola',\n",
       " 'fluffy-stuff',\n",
       " 'featured-in-venus',\n",
       " 'contemporary-adult',\n",
       " 'books-on-my-shelf',\n",
       " '_fiction',\n",
       " 'book-group',\n",
       " 'bookshare',\n",
       " 'lost-want-to-finish',\n",
       " 'favourites',\n",
       " 'want-to-read-own',\n",
       " 'don-t-have-the-book',\n",
       " 'gothic',\n",
       " 'ellie-s-print-books',\n",
       " 'mine',\n",
       " 'absolute-faves',\n",
       " 'literature',\n",
       " 'wtnotb',\n",
       " 'kimberley-book-club',\n",
       " 'at-school',\n",
       " 'unread',\n",
       " 'forsale',\n",
       " 'fiction-i-own',\n",
       " 'hardback-paperback',\n",
       " 'because-of-friends',\n",
       " 'shelfari-wishlist',\n",
       " 'dysfunction',\n",
       " 'childhood',\n",
       " 'america',\n",
       " 'i-own']"
      ]
     },
     "execution_count": 23,
     "metadata": {},
     "output_type": "execute_result"
    }
   ],
   "source": [
    "sample_info += samp.Genre.values.tolist()\n",
    "sample_info"
   ]
  },
  {
   "cell_type": "code",
   "execution_count": null,
   "metadata": {},
   "outputs": [],
   "source": []
  }
 ],
 "metadata": {
  "kernelspec": {
   "display_name": "Python 3",
   "language": "python",
   "name": "python3"
  },
  "language_info": {
   "codemirror_mode": {
    "name": "ipython",
    "version": 3
   },
   "file_extension": ".py",
   "mimetype": "text/x-python",
   "name": "python",
   "nbconvert_exporter": "python",
   "pygments_lexer": "ipython3",
   "version": "3.7.4"
  }
 },
 "nbformat": 4,
 "nbformat_minor": 4
}
