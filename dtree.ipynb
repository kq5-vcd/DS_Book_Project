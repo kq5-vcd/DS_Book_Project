{
 "cells": [
  {
   "cell_type": "code",
   "execution_count": 1,
   "metadata": {},
   "outputs": [],
   "source": [
    "import pandas as pd\n",
    "import numpy as np\n",
    "from sklearn.tree import DecisionTreeClassifier, plot_tree\n",
    "from sklearn.model_selection import train_test_split\n",
    "import matplotlib.pyplot as plt"
   ]
  },
  {
   "cell_type": "code",
   "execution_count": 2,
   "metadata": {},
   "outputs": [
    {
     "data": {
      "text/html": [
       "<div>\n",
       "<style scoped>\n",
       "    .dataframe tbody tr th:only-of-type {\n",
       "        vertical-align: middle;\n",
       "    }\n",
       "\n",
       "    .dataframe tbody tr th {\n",
       "        vertical-align: top;\n",
       "    }\n",
       "\n",
       "    .dataframe thead th {\n",
       "        text-align: right;\n",
       "    }\n",
       "</style>\n",
       "<table border=\"1\" class=\"dataframe\">\n",
       "  <thead>\n",
       "    <tr style=\"text-align: right;\">\n",
       "      <th></th>\n",
       "      <th>BookID</th>\n",
       "      <th>Raters</th>\n",
       "      <th>Reviewers</th>\n",
       "      <th>Pages</th>\n",
       "      <th>PublishYear</th>\n",
       "      <th>review</th>\n",
       "    </tr>\n",
       "  </thead>\n",
       "  <tbody>\n",
       "    <tr>\n",
       "      <th>0</th>\n",
       "      <td>1</td>\n",
       "      <td>2469197</td>\n",
       "      <td>40043</td>\n",
       "      <td>652.0</td>\n",
       "      <td>2005</td>\n",
       "      <td>2</td>\n",
       "    </tr>\n",
       "    <tr>\n",
       "      <th>1</th>\n",
       "      <td>2</td>\n",
       "      <td>2541611</td>\n",
       "      <td>43067</td>\n",
       "      <td>870.0</td>\n",
       "      <td>2003</td>\n",
       "      <td>2</td>\n",
       "    </tr>\n",
       "    <tr>\n",
       "      <th>2</th>\n",
       "      <td>3</td>\n",
       "      <td>7145889</td>\n",
       "      <td>113905</td>\n",
       "      <td>309.0</td>\n",
       "      <td>1997</td>\n",
       "      <td>2</td>\n",
       "    </tr>\n",
       "    <tr>\n",
       "      <th>3</th>\n",
       "      <td>4</td>\n",
       "      <td>2766218</td>\n",
       "      <td>53651</td>\n",
       "      <td>352.0</td>\n",
       "      <td>1998</td>\n",
       "      <td>2</td>\n",
       "    </tr>\n",
       "    <tr>\n",
       "      <th>4</th>\n",
       "      <td>5</td>\n",
       "      <td>2849671</td>\n",
       "      <td>56337</td>\n",
       "      <td>435.0</td>\n",
       "      <td>1999</td>\n",
       "      <td>2</td>\n",
       "    </tr>\n",
       "  </tbody>\n",
       "</table>\n",
       "</div>"
      ],
      "text/plain": [
       "   BookID   Raters  Reviewers  Pages  PublishYear  review\n",
       "0       1  2469197      40043  652.0         2005       2\n",
       "1       2  2541611      43067  870.0         2003       2\n",
       "2       3  7145889     113905  309.0         1997       2\n",
       "3       4  2766218      53651  352.0         1998       2\n",
       "4       5  2849671      56337  435.0         1999       2"
      ]
     },
     "execution_count": 2,
     "metadata": {},
     "output_type": "execute_result"
    }
   ],
   "source": [
    "data = pd.read_csv('ml_data/classification_data.csv')\n",
    "data.head()"
   ]
  },
  {
   "cell_type": "code",
   "execution_count": 3,
   "metadata": {},
   "outputs": [],
   "source": [
    "info = data[['Raters', 'Reviewers', 'Pages', 'PublishYear']]\n",
    "labels = data.review"
   ]
  },
  {
   "cell_type": "code",
   "execution_count": 4,
   "metadata": {},
   "outputs": [],
   "source": [
    "info_train, info_test, labels_train, labels_test = train_test_split(info, labels, train_size = 0.8, test_size = 0.2, random_state=42)\n",
    "\n",
    "classifier = DecisionTreeClassifier(random_state = 42, max_depth = 4)\n",
    "classifier.fit(info_train, labels_train)\n",
    "\n",
    "predict = classifier.predict(info_test)"
   ]
  },
  {
   "cell_type": "code",
   "execution_count": 17,
   "metadata": {},
   "outputs": [],
   "source": [
    "def score(predict, labels):\n",
    "    correct = 0\n",
    "    \n",
    "    for i in range(len(labels)):\n",
    "        if predict[i] == labels.values.tolist()[i]:\n",
    "            correct += 1\n",
    "            \n",
    "    return correct/len(labels)\n",
    "    \n",
    "def confusion_matrix(k, predict, labels):\n",
    "    result_matrix = np.zeros((k, k), dtype='int32')\n",
    "\n",
    "    for i in range(len(labels)):\n",
    "        result_matrix[labels.values.tolist()[i]][predict[i]] += 1\n",
    "        \n",
    "    return result_matrix"
   ]
  },
  {
   "cell_type": "code",
   "execution_count": 6,
   "metadata": {},
   "outputs": [
    {
     "data": {
      "text/plain": [
       "[Text(167.4, 195.696, 'X[2] <= 416.5\\ngini = 0.439\\nsamples = 78083\\nvalue = [1075, 23391, 53617]'),\n",
       " Text(83.7, 152.208, 'X[0] <= 1721.5\\ngini = 0.459\\nsamples = 64540\\nvalue = [1002, 20993, 42545]'),\n",
       " Text(41.85, 108.72, 'X[2] <= 80.5\\ngini = 0.483\\nsamples = 47856\\nvalue = [921, 17041, 29894]'),\n",
       " Text(20.925, 65.232, 'X[0] <= 181.5\\ngini = 0.364\\nsamples = 4575\\nvalue = [34, 1046, 3495]'),\n",
       " Text(10.4625, 21.744, 'gini = 0.446\\nsamples = 1503\\nvalue = [21, 464, 1018]'),\n",
       " Text(31.387500000000003, 21.744, 'gini = 0.314\\nsamples = 3072\\nvalue = [13, 582, 2477]'),\n",
       " Text(62.775000000000006, 65.232, 'X[3] <= 1994.5\\ngini = 0.491\\nsamples = 43281\\nvalue = [887, 15995, 26399]'),\n",
       " Text(52.3125, 21.744, 'gini = 0.463\\nsamples = 17703\\nvalue = [217, 5968, 11518]'),\n",
       " Text(73.2375, 21.744, 'gini = 0.507\\nsamples = 25578\\nvalue = [670, 10027, 14881]'),\n",
       " Text(125.55000000000001, 108.72, 'X[2] <= 65.5\\ngini = 0.369\\nsamples = 16684\\nvalue = [81, 3952, 12651]'),\n",
       " Text(104.625, 65.232, 'X[3] <= 1725.0\\ngini = 0.148\\nsamples = 1083\\nvalue = [5, 82, 996]'),\n",
       " Text(94.16250000000001, 21.744, 'gini = 0.569\\nsamples = 12\\nvalue = [2, 7, 3]'),\n",
       " Text(115.0875, 21.744, 'gini = 0.135\\nsamples = 1071\\nvalue = [3, 75, 993]'),\n",
       " Text(146.475, 65.232, 'X[1] <= 145.5\\ngini = 0.38\\nsamples = 15601\\nvalue = [76, 3870, 11655]'),\n",
       " Text(136.01250000000002, 21.744, 'gini = 0.303\\nsamples = 4160\\nvalue = [6, 768, 3386]'),\n",
       " Text(156.9375, 21.744, 'gini = 0.404\\nsamples = 11441\\nvalue = [70, 3102, 8269]'),\n",
       " Text(251.10000000000002, 152.208, 'X[2] <= 546.5\\ngini = 0.3\\nsamples = 13543\\nvalue = [73, 2398, 11072]'),\n",
       " Text(209.25, 108.72, 'X[0] <= 1599.5\\ngini = 0.35\\nsamples = 7517\\nvalue = [53, 1625, 5839]'),\n",
       " Text(188.32500000000002, 65.232, 'X[3] <= 1986.5\\ngini = 0.391\\nsamples = 4837\\nvalue = [47, 1216, 3574]'),\n",
       " Text(177.8625, 21.744, 'gini = 0.292\\nsamples = 1288\\nvalue = [8, 219, 1061]'),\n",
       " Text(198.7875, 21.744, 'gini = 0.42\\nsamples = 3549\\nvalue = [39, 997, 2513]'),\n",
       " Text(230.175, 65.232, 'X[0] <= 6687.5\\ngini = 0.262\\nsamples = 2680\\nvalue = [6, 409, 2265]'),\n",
       " Text(219.7125, 21.744, 'gini = 0.308\\nsamples = 1528\\nvalue = [5, 284, 1239]'),\n",
       " Text(240.63750000000002, 21.744, 'gini = 0.195\\nsamples = 1152\\nvalue = [1, 125, 1026]'),\n",
       " Text(292.95, 108.72, 'X[0] <= 212.5\\ngini = 0.229\\nsamples = 6026\\nvalue = [20, 773, 5233]'),\n",
       " Text(272.02500000000003, 65.232, 'X[0] <= 110.5\\ngini = 0.352\\nsamples = 1447\\nvalue = [11, 314, 1122]'),\n",
       " Text(261.5625, 21.744, 'gini = 0.446\\nsamples = 220\\nvalue = [2, 70, 148]'),\n",
       " Text(282.4875, 21.744, 'gini = 0.33\\nsamples = 1227\\nvalue = [9, 244, 974]'),\n",
       " Text(313.875, 65.232, 'X[2] <= 684.5\\ngini = 0.184\\nsamples = 4579\\nvalue = [9, 459, 4111]'),\n",
       " Text(303.4125, 21.744, 'gini = 0.236\\nsamples = 2269\\nvalue = [6, 303, 1960]'),\n",
       " Text(324.33750000000003, 21.744, 'gini = 0.128\\nsamples = 2310\\nvalue = [3, 156, 2151]')]"
      ]
     },
     "execution_count": 6,
     "metadata": {},
     "output_type": "execute_result"
    },
    {
     "data": {
      "image/png": "[encoded data removed]",
      "text/plain": [
       "<Figure size 432x288 with 1 Axes>"
      ]
     },
     "metadata": {
      "needs_background": "light"
     },
     "output_type": "display_data"
    }
   ],
   "source": [
    "plot_tree(classifier)"
   ]
  },
  {
   "cell_type": "code",
   "execution_count": 18,
   "metadata": {},
   "outputs": [],
   "source": [
    "depth = range(2, 101)\n",
    "tree_accuracy = []\n",
    "\n",
    "for k in depth:\n",
    "    indep_classifier = DecisionTreeClassifier(random_state = 42, max_depth = k)\n",
    "    indep_classifier.fit(info_train, labels_train)\n",
    "    \n",
    "    indep_predict = indep_classifier.predict(info_test)\n",
    "    \n",
    "    tree_accuracy.append(score(indep_predict, labels_test))"
   ]
  },
  {
   "cell_type": "code",
   "execution_count": 21,
   "metadata": {},
   "outputs": [
    {
     "data": {
      "image/png": "[encoded data removed]",
      "text/plain": [
       "<Figure size 432x288 with 1 Axes>"
      ]
     },
     "metadata": {
      "needs_background": "light"
     },
     "output_type": "display_data"
    }
   ],
   "source": [
    "plt.plot(depth, tree_accuracy)\n",
    "\n",
    "plt.xlabel('Depth')\n",
    "plt.ylabel('Accuracy (%)')\n",
    "\n",
    "plt.show()"
   ]
  },
  {
   "cell_type": "code",
   "execution_count": null,
   "metadata": {},
   "outputs": [],
   "source": []
  }
 ],
 "metadata": {
  "kernelspec": {
   "display_name": "ds",
   "language": "python",
   "name": "ds"
  },
  "language_info": {
   "codemirror_mode": {
    "name": "ipython",
    "version": 3
   },
   "file_extension": ".py",
   "mimetype": "text/x-python",
   "name": "python",
   "nbconvert_exporter": "python",
   "pygments_lexer": "ipython3",
   "version": "3.7.4"
  }
 },
 "nbformat": 4,
 "nbformat_minor": 4
}
