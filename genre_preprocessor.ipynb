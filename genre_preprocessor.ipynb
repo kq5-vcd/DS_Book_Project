{
 "cells": [
  {
   "cell_type": "code",
   "execution_count": 1,
   "id": "9e73b953",
   "metadata": {},
   "outputs": [],
   "source": [
    "import pandas as pd\n",
    "import numpy as np"
   ]
  },
  {
   "cell_type": "code",
   "execution_count": 3,
   "id": "74c698fd",
   "metadata": {},
   "outputs": [],
   "source": [
    "ind = 1\n",
    "books = pd.read_csv('goodreads/books_' + str(ind) +'.csv')\n",
    "genre = pd.read_csv('goodreads/genre_' + str(ind) +'.csv')"
   ]
  },
  {
   "cell_type": "code",
   "execution_count": 4,
   "id": "6b97e9e5",
   "metadata": {},
   "outputs": [
    {
     "data": {
      "text/html": [
       "<div>\n",
       "<style scoped>\n",
       "    .dataframe tbody tr th:only-of-type {\n",
       "        vertical-align: middle;\n",
       "    }\n",
       "\n",
       "    .dataframe tbody tr th {\n",
       "        vertical-align: top;\n",
       "    }\n",
       "\n",
       "    .dataframe thead th {\n",
       "        text-align: right;\n",
       "    }\n",
       "</style>\n",
       "<table border=\"1\" class=\"dataframe\">\n",
       "  <thead>\n",
       "    <tr style=\"text-align: right;\">\n",
       "      <th></th>\n",
       "      <th>BookID</th>\n",
       "      <th>Title</th>\n",
       "      <th>Author</th>\n",
       "      <th>Rating</th>\n",
       "      <th>Number of raters</th>\n",
       "      <th>5 stars</th>\n",
       "      <th>4 stars</th>\n",
       "      <th>3 stars</th>\n",
       "      <th>2 stars</th>\n",
       "      <th>1 star</th>\n",
       "      <th>Number of reviewers</th>\n",
       "      <th>Pages</th>\n",
       "      <th>Book format</th>\n",
       "      <th>Language</th>\n",
       "      <th>GenreLink</th>\n",
       "      <th>Series</th>\n",
       "      <th>PublishYear</th>\n",
       "    </tr>\n",
       "  </thead>\n",
       "  <tbody>\n",
       "    <tr>\n",
       "      <th>0</th>\n",
       "      <td>3</td>\n",
       "      <td>Harry Potter and the Sorcerer's Stone</td>\n",
       "      <td>J.K. Rowling, Mary GrandPré</td>\n",
       "      <td>4.48</td>\n",
       "      <td>7479780</td>\n",
       "      <td>4868903</td>\n",
       "      <td>1704361</td>\n",
       "      <td>631378</td>\n",
       "      <td>148016</td>\n",
       "      <td>127122</td>\n",
       "      <td>118557</td>\n",
       "      <td>309</td>\n",
       "      <td>Hardcover</td>\n",
       "      <td>English</td>\n",
       "      <td>4640799</td>\n",
       "      <td>Harry Potter</td>\n",
       "      <td>1997</td>\n",
       "    </tr>\n",
       "    <tr>\n",
       "      <th>1</th>\n",
       "      <td>1</td>\n",
       "      <td>Harry Potter and the Half-Blood Prince</td>\n",
       "      <td>J.K. Rowling</td>\n",
       "      <td>4.57</td>\n",
       "      <td>2567345</td>\n",
       "      <td>1738165</td>\n",
       "      <td>611768</td>\n",
       "      <td>175048</td>\n",
       "      <td>29134</td>\n",
       "      <td>13230</td>\n",
       "      <td>41832</td>\n",
       "      <td>652</td>\n",
       "      <td>Paperback</td>\n",
       "      <td>English</td>\n",
       "      <td>41335427</td>\n",
       "      <td>Harry Potter</td>\n",
       "      <td>2005</td>\n",
       "    </tr>\n",
       "    <tr>\n",
       "      <th>2</th>\n",
       "      <td>7</td>\n",
       "      <td>The Harry Potter Collection</td>\n",
       "      <td>J.K. Rowling, Mary GrandPré</td>\n",
       "      <td>4.73</td>\n",
       "      <td>31236</td>\n",
       "      <td>25140</td>\n",
       "      <td>4473</td>\n",
       "      <td>1111</td>\n",
       "      <td>230</td>\n",
       "      <td>282</td>\n",
       "      <td>921</td>\n",
       "      <td>318</td>\n",
       "      <td>Paperback</td>\n",
       "      <td>English</td>\n",
       "      <td>21457570</td>\n",
       "      <td>Harry Potter</td>\n",
       "      <td>2005</td>\n",
       "    </tr>\n",
       "    <tr>\n",
       "      <th>3</th>\n",
       "      <td>10</td>\n",
       "      <td>Harry Potter Collection</td>\n",
       "      <td>J.K. Rowling</td>\n",
       "      <td>4.73</td>\n",
       "      <td>31236</td>\n",
       "      <td>25140</td>\n",
       "      <td>4473</td>\n",
       "      <td>1111</td>\n",
       "      <td>230</td>\n",
       "      <td>282</td>\n",
       "      <td>921</td>\n",
       "      <td>3342</td>\n",
       "      <td>Hardcover</td>\n",
       "      <td>English</td>\n",
       "      <td>21457570</td>\n",
       "      <td>Harry Potter</td>\n",
       "      <td>2005</td>\n",
       "    </tr>\n",
       "    <tr>\n",
       "      <th>4</th>\n",
       "      <td>5</td>\n",
       "      <td>Harry Potter and the Prisoner of Azkaban</td>\n",
       "      <td>J.K. Rowling, Mary GrandPré</td>\n",
       "      <td>4.57</td>\n",
       "      <td>2993081</td>\n",
       "      <td>2028235</td>\n",
       "      <td>706012</td>\n",
       "      <td>215277</td>\n",
       "      <td>29265</td>\n",
       "      <td>14292</td>\n",
       "      <td>58998</td>\n",
       "      <td>435</td>\n",
       "      <td>Mass Market Paperback</td>\n",
       "      <td>English</td>\n",
       "      <td>2402163</td>\n",
       "      <td>Harry Potter</td>\n",
       "      <td>1999</td>\n",
       "    </tr>\n",
       "  </tbody>\n",
       "</table>\n",
       "</div>"
      ],
      "text/plain": [
       "   BookID                                     Title  \\\n",
       "0       3     Harry Potter and the Sorcerer's Stone   \n",
       "1       1    Harry Potter and the Half-Blood Prince   \n",
       "2       7               The Harry Potter Collection   \n",
       "3      10                   Harry Potter Collection   \n",
       "4       5  Harry Potter and the Prisoner of Azkaban   \n",
       "\n",
       "                        Author  Rating  Number of raters  5 stars  4 stars  \\\n",
       "0  J.K. Rowling, Mary GrandPré    4.48           7479780  4868903  1704361   \n",
       "1                 J.K. Rowling    4.57           2567345  1738165   611768   \n",
       "2  J.K. Rowling, Mary GrandPré    4.73             31236    25140     4473   \n",
       "3                 J.K. Rowling    4.73             31236    25140     4473   \n",
       "4  J.K. Rowling, Mary GrandPré    4.57           2993081  2028235   706012   \n",
       "\n",
       "   3 stars  2 stars  1 star  Number of reviewers  Pages  \\\n",
       "0   631378   148016  127122               118557    309   \n",
       "1   175048    29134   13230                41832    652   \n",
       "2     1111      230     282                  921    318   \n",
       "3     1111      230     282                  921   3342   \n",
       "4   215277    29265   14292                58998    435   \n",
       "\n",
       "             Book format Language  GenreLink        Series  PublishYear  \n",
       "0              Hardcover  English    4640799  Harry Potter         1997  \n",
       "1              Paperback  English   41335427  Harry Potter         2005  \n",
       "2              Paperback  English   21457570  Harry Potter         2005  \n",
       "3              Hardcover  English   21457570  Harry Potter         2005  \n",
       "4  Mass Market Paperback  English    2402163  Harry Potter         1999  "
      ]
     },
     "execution_count": 4,
     "metadata": {},
     "output_type": "execute_result"
    }
   ],
   "source": [
    "books.head()"
   ]
  },
  {
   "cell_type": "code",
   "execution_count": 5,
   "id": "c3f2c78e",
   "metadata": {},
   "outputs": [
    {
     "data": {
      "text/html": [
       "<div>\n",
       "<style scoped>\n",
       "    .dataframe tbody tr th:only-of-type {\n",
       "        vertical-align: middle;\n",
       "    }\n",
       "\n",
       "    .dataframe tbody tr th {\n",
       "        vertical-align: top;\n",
       "    }\n",
       "\n",
       "    .dataframe thead th {\n",
       "        text-align: right;\n",
       "    }\n",
       "</style>\n",
       "<table border=\"1\" class=\"dataframe\">\n",
       "  <thead>\n",
       "    <tr style=\"text-align: right;\">\n",
       "      <th></th>\n",
       "      <th>GenreLink</th>\n",
       "      <th>Genre</th>\n",
       "      <th>NumberOfPeople</th>\n",
       "    </tr>\n",
       "  </thead>\n",
       "  <tbody>\n",
       "    <tr>\n",
       "      <th>0</th>\n",
       "      <td>4640799</td>\n",
       "      <td>to-read</td>\n",
       "      <td>1082661</td>\n",
       "    </tr>\n",
       "    <tr>\n",
       "      <th>1</th>\n",
       "      <td>4640799</td>\n",
       "      <td>currently-reading</td>\n",
       "      <td>160630</td>\n",
       "    </tr>\n",
       "    <tr>\n",
       "      <th>2</th>\n",
       "      <td>4640799</td>\n",
       "      <td>fantasy</td>\n",
       "      <td>64264</td>\n",
       "    </tr>\n",
       "    <tr>\n",
       "      <th>3</th>\n",
       "      <td>4640799</td>\n",
       "      <td>favorites</td>\n",
       "      <td>57385</td>\n",
       "    </tr>\n",
       "    <tr>\n",
       "      <th>4</th>\n",
       "      <td>4640799</td>\n",
       "      <td>fiction</td>\n",
       "      <td>19352</td>\n",
       "    </tr>\n",
       "  </tbody>\n",
       "</table>\n",
       "</div>"
      ],
      "text/plain": [
       "   GenreLink              Genre  NumberOfPeople\n",
       "0    4640799            to-read         1082661\n",
       "1    4640799  currently-reading          160630\n",
       "2    4640799            fantasy           64264\n",
       "3    4640799          favorites           57385\n",
       "4    4640799            fiction           19352"
      ]
     },
     "execution_count": 5,
     "metadata": {},
     "output_type": "execute_result"
    }
   ],
   "source": [
    "genre.head()"
   ]
  },
  {
   "cell_type": "code",
   "execution_count": 16,
   "id": "afd82d1d",
   "metadata": {},
   "outputs": [
    {
     "data": {
      "text/plain": [
       "46556"
      ]
     },
     "execution_count": 16,
     "metadata": {},
     "output_type": "execute_result"
    }
   ],
   "source": [
    "len(books)"
   ]
  },
  {
   "cell_type": "code",
   "execution_count": 7,
   "id": "ae342473",
   "metadata": {},
   "outputs": [
    {
     "data": {
      "text/plain": [
       "3045377"
      ]
     },
     "execution_count": 7,
     "metadata": {},
     "output_type": "execute_result"
    }
   ],
   "source": [
    "len(genre)"
   ]
  },
  {
   "cell_type": "code",
   "execution_count": 12,
   "id": "3d8581f8",
   "metadata": {},
   "outputs": [
    {
     "data": {
      "text/plain": [
       "31237"
      ]
     },
     "execution_count": 12,
     "metadata": {},
     "output_type": "execute_result"
    }
   ],
   "source": [
    "genre_link = books.GenreLink.unique().tolist()\n",
    "len(genre_link)"
   ]
  },
  {
   "cell_type": "code",
   "execution_count": 24,
   "id": "518ed1c1",
   "metadata": {},
   "outputs": [
    {
     "data": {
      "text/plain": [
       "True"
      ]
     },
     "execution_count": 24,
     "metadata": {},
     "output_type": "execute_result"
    }
   ],
   "source": [
    "genre.GenreLink.iloc[20] in genre_link"
   ]
  },
  {
   "cell_type": "code",
   "execution_count": 26,
   "id": "65971f8b",
   "metadata": {},
   "outputs": [
    {
     "data": {
      "text/plain": [
       "3045077"
      ]
     },
     "execution_count": 26,
     "metadata": {},
     "output_type": "execute_result"
    }
   ],
   "source": [
    "clean = genre[genre[\"GenreLink\"].isin(genre_link)]\n",
    "len(clean)"
   ]
  },
  {
   "cell_type": "code",
   "execution_count": 28,
   "id": "50995d93",
   "metadata": {},
   "outputs": [],
   "source": [
    "clean.to_csv('goodreads/genre_' + str(ind) +'.csv', index=False)"
   ]
  },
  {
   "cell_type": "code",
   "execution_count": 29,
   "id": "556b848b",
   "metadata": {},
   "outputs": [],
   "source": [
    "def clean_genre(ind):\n",
    "    books = pd.read_csv('goodreads/books_' + str(ind) +'.csv')\n",
    "    genre = pd.read_csv('goodreads/genre_' + str(ind) +'.csv')\n",
    "\n",
    "    genre_link = books.GenreLink.unique().tolist()\n",
    "    clean = genre[genre[\"GenreLink\"].isin(genre_link)]\n",
    "\n",
    "    clean.to_csv('goodreads/genre_' + str(ind) +'.csv', index=False)"
   ]
  },
  {
   "cell_type": "code",
   "execution_count": 31,
   "id": "35ed0a97",
   "metadata": {},
   "outputs": [],
   "source": [
    "for i in range(11, 16):\n",
    "    clean_genre(i)"
   ]
  }
 ],
 "metadata": {
  "kernelspec": {
   "display_name": "Python 3",
   "language": "python",
   "name": "python3"
  },
  "language_info": {
   "codemirror_mode": {
    "name": "ipython",
    "version": 3
   },
   "file_extension": ".py",
   "mimetype": "text/x-python",
   "name": "python",
   "nbconvert_exporter": "python",
   "pygments_lexer": "ipython3",
   "version": "3.9.2"
  }
 },
 "nbformat": 4,
 "nbformat_minor": 5
}
