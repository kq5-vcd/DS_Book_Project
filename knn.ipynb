{
 "cells": [
  {
   "cell_type": "code",
   "execution_count": 1,
   "metadata": {},
   "outputs": [],
   "source": [
    "import pandas as pd\n",
    "import numpy as np\n",
    "from sklearn.neighbors import KNeighborsClassifier\n",
    "from sklearn.model_selection import train_test_split\n",
    "import matplotlib.pyplot as plt"
   ]
  },
  {
   "cell_type": "code",
   "execution_count": 2,
   "metadata": {},
   "outputs": [],
   "source": [
    "data = pd.read_csv('ml_data/classification_data.csv')\n",
    "\n",
    "info = data[['Raters', 'Reviewers', 'Pages', 'PublishYear']]\n",
    "labels = data.review\n",
    "\n",
    "info_train, info_test, labels_train, labels_test = train_test_split(info, labels, train_size = 0.8, test_size = 0.2, random_state=42)"
   ]
  },
  {
   "cell_type": "code",
   "execution_count": 8,
   "metadata": {},
   "outputs": [],
   "source": [
    "def accuracy(predict, labels):\n",
    "    correct = 0\n",
    "    \n",
    "    for i in range(len(labels)):\n",
    "        if predict[i] == labels[i]:\n",
    "            correct += 1\n",
    "            \n",
    "    return correct/len(labels)"
   ]
  },
  {
   "cell_type": "code",
   "execution_count": 3,
   "metadata": {},
   "outputs": [],
   "source": [
    "classifier = KNeighborsClassifier(n_neighbors = 3)\n",
    "classifier.fit(info_train, labels_train)\n",
    "\n",
    "predict = classifier.predict(info_test)"
   ]
  },
  {
   "cell_type": "code",
   "execution_count": 9,
   "metadata": {},
   "outputs": [
    {
     "name": "stdout",
     "output_type": "stream",
     "text": [
      "[[    3    49    45]\n",
      " [   48  1968  4042]\n",
      " [   64  2841 10464]]\n",
      "0.6369084204056545\n"
     ]
    }
   ],
   "source": [
    "test_labels = labels_test.values.tolist()\n",
    "\n",
    "result_matrix = np.zeros((3, 3), dtype='int32')\n",
    "\n",
    "for i in range(len(test_labels)):\n",
    "    result_matrix[test_labels[i]][predict[i]] += 1\n",
    "\n",
    "print(result_matrix)\n",
    "print(accuracy(predict, test_labels))"
   ]
  },
  {
   "cell_type": "code",
   "execution_count": 6,
   "metadata": {},
   "outputs": [],
   "source": [
    "neighbors = list(range(1, 101))\n",
    "k_accuracy = []\n",
    "\n",
    "for k in neighbors:\n",
    "    indep_classifier = KNeighborsClassifier(n_neighbors = k)\n",
    "    indep_classifier.fit(info_train, labels_train)\n",
    "    \n",
    "    indep_predict = indep_classifier.predict(info_test)\n",
    "    \n",
    "    k_accuracy.append(accuracy(indep_predict, test_labels))"
   ]
  },
  {
   "cell_type": "code",
   "execution_count": 7,
   "metadata": {},
   "outputs": [
    {
     "data": {
      "image/png": "[encoded data removed]",
      "text/plain": [
       "<Figure size 432x288 with 1 Axes>"
      ]
     },
     "metadata": {
      "needs_background": "light"
     },
     "output_type": "display_data"
    }
   ],
   "source": [
    "plt.plot(neighbors, k_accuracy)\n",
    "plt.show()"
   ]
  },
  {
   "cell_type": "code",
   "execution_count": 11,
   "metadata": {},
   "outputs": [],
   "source": [
    "classifier_v2 = KNeighborsClassifier(n_neighbors = 41)\n",
    "classifier_v2.fit(info_train, labels_train)\n",
    "\n",
    "predict_v2 = classifier_v2.predict(info_test)"
   ]
  },
  {
   "cell_type": "code",
   "execution_count": 12,
   "metadata": {},
   "outputs": [
    {
     "name": "stdout",
     "output_type": "stream",
     "text": [
      "[[    0    46    51]\n",
      " [    0  1069  4989]\n",
      " [    0   903 12466]]\n",
      "0.6932493341528375\n"
     ]
    }
   ],
   "source": [
    "result_matrix_v2 = np.zeros((3, 3), dtype='int32')\n",
    "\n",
    "for i in range(len(test_labels)):\n",
    "    result_matrix_v2[test_labels[i]][predict_v2[i]] += 1\n",
    "\n",
    "print(result_matrix_v2)\n",
    "print(accuracy(predict_v2, test_labels))"
   ]
  },
  {
   "cell_type": "code",
   "execution_count": 13,
   "metadata": {},
   "outputs": [],
   "source": [
    "classifier_v3 = KNeighborsClassifier(n_neighbors = 11)\n",
    "classifier_v3.fit(info_train, labels_train)\n",
    "\n",
    "predict_v3 = classifier_v3.predict(info_test)"
   ]
  },
  {
   "cell_type": "code",
   "execution_count": 14,
   "metadata": {},
   "outputs": [
    {
     "name": "stdout",
     "output_type": "stream",
     "text": [
      "[[    0    45    52]\n",
      " [    0  1527  4531]\n",
      " [    0  1756 11613]]\n",
      "0.6730178242163491\n"
     ]
    }
   ],
   "source": [
    "result_matrix_v3 = np.zeros((3, 3), dtype='int32')\n",
    "\n",
    "for i in range(len(test_labels)):\n",
    "    result_matrix_v3[test_labels[i]][predict_v3[i]] += 1\n",
    "\n",
    "print(result_matrix_v3)\n",
    "print(accuracy(predict_v3, test_labels))"
   ]
  },
  {
   "cell_type": "code",
   "execution_count": null,
   "metadata": {},
   "outputs": [],
   "source": []
  }
 ],
 "metadata": {
  "kernelspec": {
   "display_name": "ds",
   "language": "python",
   "name": "ds"
  },
  "language_info": {
   "codemirror_mode": {
    "name": "ipython",
    "version": 3
   },
   "file_extension": ".py",
   "mimetype": "text/x-python",
   "name": "python",
   "nbconvert_exporter": "python",
   "pygments_lexer": "ipython3",
   "version": "3.7.4"
  }
 },
 "nbformat": 4,
 "nbformat_minor": 4
}
