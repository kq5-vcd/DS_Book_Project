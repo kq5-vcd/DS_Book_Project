{
 "cells": [
  {
   "cell_type": "code",
   "execution_count": 2,
   "metadata": {},
   "outputs": [],
   "source": [
    "import pandas as pd\n",
    "import numpy as np"
   ]
  },
  {
   "cell_type": "code",
   "execution_count": 5,
   "metadata": {},
   "outputs": [],
   "source": [
    "data = []\n",
    "\n",
    "for i in range(1, 101):\n",
    "    data.append(pd.read_csv('data/complete_data_{}.csv'.format(i)))\n",
    "    \n",
    "df = pd.concat(data)"
   ]
  },
  {
   "cell_type": "code",
   "execution_count": 7,
   "metadata": {},
   "outputs": [],
   "source": [
    "conditions = [\n",
    "    (df['Rate'] < 3),\n",
    "    (df['Rate'] >= 3) & (df['Rate'] < 3.8),\n",
    "    (df['Rate'] >= 3.8) \n",
    "    ]\n",
    "\n",
    "values = [0, 1, 2]"
   ]
  },
  {
   "cell_type": "code",
   "execution_count": 9,
   "metadata": {},
   "outputs": [
    {
     "data": {
      "text/html": [
       "<div>\n",
       "<style scoped>\n",
       "    .dataframe tbody tr th:only-of-type {\n",
       "        vertical-align: middle;\n",
       "    }\n",
       "\n",
       "    .dataframe tbody tr th {\n",
       "        vertical-align: top;\n",
       "    }\n",
       "\n",
       "    .dataframe thead th {\n",
       "        text-align: right;\n",
       "    }\n",
       "</style>\n",
       "<table border=\"1\" class=\"dataframe\">\n",
       "  <thead>\n",
       "    <tr style=\"text-align: right;\">\n",
       "      <th></th>\n",
       "      <th>BookID</th>\n",
       "      <th>Title</th>\n",
       "      <th>Author</th>\n",
       "      <th>Rate</th>\n",
       "      <th>Raters</th>\n",
       "      <th>Reviewers</th>\n",
       "      <th>Pages</th>\n",
       "      <th>PublishYear</th>\n",
       "      <th>GenreLink</th>\n",
       "      <th>Series</th>\n",
       "      <th>review</th>\n",
       "      <th>Genre</th>\n",
       "      <th>NumberOfPeople</th>\n",
       "    </tr>\n",
       "  </thead>\n",
       "  <tbody>\n",
       "    <tr>\n",
       "      <th>0</th>\n",
       "      <td>1</td>\n",
       "      <td>Harry Potter and the Half-Blood Prince</td>\n",
       "      <td>J.K. Rowling</td>\n",
       "      <td>4.57</td>\n",
       "      <td>2469197</td>\n",
       "      <td>40043</td>\n",
       "      <td>652.0</td>\n",
       "      <td>2005</td>\n",
       "      <td>/work/shelves/41335427</td>\n",
       "      <td>Harry Potter</td>\n",
       "      <td>2</td>\n",
       "      <td>to-read</td>\n",
       "      <td>318638</td>\n",
       "    </tr>\n",
       "    <tr>\n",
       "      <th>1</th>\n",
       "      <td>1</td>\n",
       "      <td>Harry Potter and the Half-Blood Prince</td>\n",
       "      <td>J.K. Rowling</td>\n",
       "      <td>4.57</td>\n",
       "      <td>2469197</td>\n",
       "      <td>40043</td>\n",
       "      <td>652.0</td>\n",
       "      <td>2005</td>\n",
       "      <td>/work/shelves/41335427</td>\n",
       "      <td>Harry Potter</td>\n",
       "      <td>2</td>\n",
       "      <td>fantasy</td>\n",
       "      <td>48263</td>\n",
       "    </tr>\n",
       "    <tr>\n",
       "      <th>2</th>\n",
       "      <td>1</td>\n",
       "      <td>Harry Potter and the Half-Blood Prince</td>\n",
       "      <td>J.K. Rowling</td>\n",
       "      <td>4.57</td>\n",
       "      <td>2469197</td>\n",
       "      <td>40043</td>\n",
       "      <td>652.0</td>\n",
       "      <td>2005</td>\n",
       "      <td>/work/shelves/41335427</td>\n",
       "      <td>Harry Potter</td>\n",
       "      <td>2</td>\n",
       "      <td>favorites</td>\n",
       "      <td>39668</td>\n",
       "    </tr>\n",
       "    <tr>\n",
       "      <th>3</th>\n",
       "      <td>1</td>\n",
       "      <td>Harry Potter and the Half-Blood Prince</td>\n",
       "      <td>J.K. Rowling</td>\n",
       "      <td>4.57</td>\n",
       "      <td>2469197</td>\n",
       "      <td>40043</td>\n",
       "      <td>652.0</td>\n",
       "      <td>2005</td>\n",
       "      <td>/work/shelves/41335427</td>\n",
       "      <td>Harry Potter</td>\n",
       "      <td>2</td>\n",
       "      <td>young-adult</td>\n",
       "      <td>15466</td>\n",
       "    </tr>\n",
       "    <tr>\n",
       "      <th>4</th>\n",
       "      <td>1</td>\n",
       "      <td>Harry Potter and the Half-Blood Prince</td>\n",
       "      <td>J.K. Rowling</td>\n",
       "      <td>4.57</td>\n",
       "      <td>2469197</td>\n",
       "      <td>40043</td>\n",
       "      <td>652.0</td>\n",
       "      <td>2005</td>\n",
       "      <td>/work/shelves/41335427</td>\n",
       "      <td>Harry Potter</td>\n",
       "      <td>2</td>\n",
       "      <td>fiction</td>\n",
       "      <td>13661</td>\n",
       "    </tr>\n",
       "  </tbody>\n",
       "</table>\n",
       "</div>"
      ],
      "text/plain": [
       "   BookID                                   Title        Author  Rate  \\\n",
       "0       1  Harry Potter and the Half-Blood Prince  J.K. Rowling  4.57   \n",
       "1       1  Harry Potter and the Half-Blood Prince  J.K. Rowling  4.57   \n",
       "2       1  Harry Potter and the Half-Blood Prince  J.K. Rowling  4.57   \n",
       "3       1  Harry Potter and the Half-Blood Prince  J.K. Rowling  4.57   \n",
       "4       1  Harry Potter and the Half-Blood Prince  J.K. Rowling  4.57   \n",
       "\n",
       "    Raters  Reviewers  Pages  PublishYear               GenreLink  \\\n",
       "0  2469197      40043  652.0         2005  /work/shelves/41335427   \n",
       "1  2469197      40043  652.0         2005  /work/shelves/41335427   \n",
       "2  2469197      40043  652.0         2005  /work/shelves/41335427   \n",
       "3  2469197      40043  652.0         2005  /work/shelves/41335427   \n",
       "4  2469197      40043  652.0         2005  /work/shelves/41335427   \n",
       "\n",
       "         Series  review        Genre  NumberOfPeople  \n",
       "0  Harry Potter       2      to-read          318638  \n",
       "1  Harry Potter       2      fantasy           48263  \n",
       "2  Harry Potter       2    favorites           39668  \n",
       "3  Harry Potter       2  young-adult           15466  \n",
       "4  Harry Potter       2      fiction           13661  "
      ]
     },
     "execution_count": 9,
     "metadata": {},
     "output_type": "execute_result"
    }
   ],
   "source": [
    "df['review'] = np.select(conditions, values)\n",
    "df.head()"
   ]
  },
  {
   "cell_type": "code",
   "execution_count": 10,
   "metadata": {},
   "outputs": [],
   "source": [
    "for i in range(1, 101):\n",
    "    piece = df[(df.BookID > (i - 1) * 50000) & (df.BookID <= i * 50000)]\n",
    "    \n",
    "    piece.to_csv('data_raw/data_{}.csv'.format(i), index=False)"
   ]
  },
  {
   "cell_type": "code",
   "execution_count": 12,
   "metadata": {},
   "outputs": [
    {
     "name": "stdout",
     "output_type": "stream",
     "text": [
      "2674669 2674669 2674669\n"
     ]
    }
   ],
   "source": [
    "clustering_data = df[['BookID', 'Author', 'Series', 'Genre']]\n",
    "classification_data = df[['BookID', 'Raters', 'Reviewers', 'Pages', 'PublishYear', 'review']]\n",
    "book_data = df[['BookID', 'Title']]\n",
    "\n",
    "print(len(clustering_data), len(classification_data), len(book_data))"
   ]
  },
  {
   "cell_type": "code",
   "execution_count": null,
   "metadata": {},
   "outputs": [],
   "source": []
  }
 ],
 "metadata": {
  "kernelspec": {
   "display_name": "Python 3",
   "language": "python",
   "name": "python3"
  },
  "language_info": {
   "codemirror_mode": {
    "name": "ipython",
    "version": 3
   },
   "file_extension": ".py",
   "mimetype": "text/x-python",
   "name": "python",
   "nbconvert_exporter": "python",
   "pygments_lexer": "ipython3",
   "version": "3.7.4"
  }
 },
 "nbformat": 4,
 "nbformat_minor": 4
}
