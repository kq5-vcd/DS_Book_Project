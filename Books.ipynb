{
 "cells": [
  {
   "cell_type": "code",
   "execution_count": 1,
   "metadata": {},
   "outputs": [],
   "source": [
    "import pandas as pd\n",
    "import matplotlib.pyplot as plt\n",
    "import numpy as np"
   ]
  },
  {
   "cell_type": "code",
   "execution_count": 2,
   "metadata": {},
   "outputs": [],
   "source": [
    "data_raw_1 = pd.read_csv('goodreads/books_d.csv')\n",
    "data_raw_2 = pd.read_csv('goodreads/books_q.csv')\n",
    "data_raw_3 = pd.read_csv('goodreads/books_m.csv')"
   ]
  },
  {
   "cell_type": "code",
   "execution_count": 3,
   "metadata": {},
   "outputs": [
    {
     "data": {
      "text/plain": [
       "456032"
      ]
     },
     "execution_count": 3,
     "metadata": {},
     "output_type": "execute_result"
    }
   ],
   "source": [
    "data = pd.concat([data_raw_1, data_raw_2, data_raw_3])\n",
    "len(data)"
   ]
  },
  {
   "cell_type": "code",
   "execution_count": 4,
   "metadata": {},
   "outputs": [
    {
     "data": {
      "text/plain": [
       "0    4.57\n",
       "1    4.50\n",
       "2    4.47\n",
       "3    4.43\n",
       "4    4.57\n",
       "Name: Rate, dtype: float64"
      ]
     },
     "execution_count": 4,
     "metadata": {},
     "output_type": "execute_result"
    }
   ],
   "source": [
    "avg_rating = data['Rate']\n",
    "avg_rating.head()"
   ]
  },
  {
   "cell_type": "code",
   "execution_count": 5,
   "metadata": {},
   "outputs": [
    {
     "data": {
      "text/plain": [
       "281522"
      ]
     },
     "execution_count": 5,
     "metadata": {},
     "output_type": "execute_result"
    }
   ],
   "source": [
    "clean_v1 = data[~data.GenreLink.isnull()]\n",
    "\n",
    "len(clean_v1)"
   ]
  },
  {
   "cell_type": "code",
   "execution_count": 6,
   "metadata": {},
   "outputs": [
    {
     "data": {
      "text/plain": [
       "174894"
      ]
     },
     "execution_count": 6,
     "metadata": {},
     "output_type": "execute_result"
    }
   ],
   "source": [
    "clean_v2 = clean_v1[clean_v1[\"Raters\"] > 100]\n",
    "len(clean_v2)"
   ]
  },
  {
   "cell_type": "code",
   "execution_count": 7,
   "metadata": {},
   "outputs": [
    {
     "data": {
      "text/plain": [
       "152079"
      ]
     },
     "execution_count": 7,
     "metadata": {},
     "output_type": "execute_result"
    }
   ],
   "source": [
    "clean_v3 = clean_v2[clean_v2[\"Pages\"] > 0]\n",
    "len(clean_v3)"
   ]
  },
  {
   "cell_type": "code",
   "execution_count": 8,
   "metadata": {},
   "outputs": [
    {
     "data": {
      "text/plain": [
       "97618"
      ]
     },
     "execution_count": 8,
     "metadata": {},
     "output_type": "execute_result"
    }
   ],
   "source": [
    "clean_v4 = clean_v3.drop_duplicates(subset=\"GenreLink\")\n",
    "len(clean_v4)"
   ]
  },
  {
   "cell_type": "code",
   "execution_count": 9,
   "metadata": {},
   "outputs": [
    {
     "name": "stderr",
     "output_type": "stream",
     "text": [
      "C:\\Users\\Dell\\Desktop\\Data Science\\ds\\lib\\site-packages\\ipykernel_launcher.py:10: SettingWithCopyWarning: \n",
      "A value is trying to be set on a copy of a slice from a DataFrame.\n",
      "Try using .loc[row_indexer,col_indexer] = value instead\n",
      "\n",
      "See the caveats in the documentation: https://pandas.pydata.org/pandas-docs/stable/user_guide/indexing.html#returning-a-view-versus-a-copy\n",
      "  # Remove the CWD from sys.path while we load stuff.\n"
     ]
    },
    {
     "data": {
      "text/html": [
       "<div>\n",
       "<style scoped>\n",
       "    .dataframe tbody tr th:only-of-type {\n",
       "        vertical-align: middle;\n",
       "    }\n",
       "\n",
       "    .dataframe tbody tr th {\n",
       "        vertical-align: top;\n",
       "    }\n",
       "\n",
       "    .dataframe thead th {\n",
       "        text-align: right;\n",
       "    }\n",
       "</style>\n",
       "<table border=\"1\" class=\"dataframe\">\n",
       "  <thead>\n",
       "    <tr style=\"text-align: right;\">\n",
       "      <th></th>\n",
       "      <th>BookID</th>\n",
       "      <th>Title</th>\n",
       "      <th>Author</th>\n",
       "      <th>Rate</th>\n",
       "      <th>Raters</th>\n",
       "      <th>Reviewers</th>\n",
       "      <th>Pages</th>\n",
       "      <th>PublishYear</th>\n",
       "      <th>GenreLink</th>\n",
       "      <th>Series</th>\n",
       "      <th>review</th>\n",
       "    </tr>\n",
       "  </thead>\n",
       "  <tbody>\n",
       "    <tr>\n",
       "      <th>0</th>\n",
       "      <td>1</td>\n",
       "      <td>Harry Potter and the Half-Blood Prince</td>\n",
       "      <td>J.K. Rowling</td>\n",
       "      <td>4.57</td>\n",
       "      <td>2469197</td>\n",
       "      <td>40043</td>\n",
       "      <td>652.0</td>\n",
       "      <td>2005</td>\n",
       "      <td>/work/shelves/41335427</td>\n",
       "      <td>Harry Potter</td>\n",
       "      <td>2</td>\n",
       "    </tr>\n",
       "    <tr>\n",
       "      <th>1</th>\n",
       "      <td>2</td>\n",
       "      <td>Harry Potter and the Order of the Phoenix</td>\n",
       "      <td>J.K. Rowling, Mary GrandPré</td>\n",
       "      <td>4.50</td>\n",
       "      <td>2541611</td>\n",
       "      <td>43067</td>\n",
       "      <td>870.0</td>\n",
       "      <td>2003</td>\n",
       "      <td>/work/shelves/2809203</td>\n",
       "      <td>Harry Potter</td>\n",
       "      <td>2</td>\n",
       "    </tr>\n",
       "    <tr>\n",
       "      <th>2</th>\n",
       "      <td>3</td>\n",
       "      <td>Harry Potter and the Sorcerer's Stone</td>\n",
       "      <td>J.K. Rowling, Mary GrandPré</td>\n",
       "      <td>4.47</td>\n",
       "      <td>7145889</td>\n",
       "      <td>113905</td>\n",
       "      <td>309.0</td>\n",
       "      <td>1997</td>\n",
       "      <td>/work/shelves/4640799</td>\n",
       "      <td>Harry Potter</td>\n",
       "      <td>2</td>\n",
       "    </tr>\n",
       "    <tr>\n",
       "      <th>3</th>\n",
       "      <td>4</td>\n",
       "      <td>Harry Potter and the Chamber of Secrets</td>\n",
       "      <td>J.K. Rowling</td>\n",
       "      <td>4.43</td>\n",
       "      <td>2766218</td>\n",
       "      <td>53651</td>\n",
       "      <td>352.0</td>\n",
       "      <td>1998</td>\n",
       "      <td>/work/shelves/6231171</td>\n",
       "      <td>Harry Potter</td>\n",
       "      <td>2</td>\n",
       "    </tr>\n",
       "    <tr>\n",
       "      <th>4</th>\n",
       "      <td>5</td>\n",
       "      <td>Harry Potter and the Prisoner of Azkaban</td>\n",
       "      <td>J.K. Rowling, Mary GrandPré</td>\n",
       "      <td>4.57</td>\n",
       "      <td>2849671</td>\n",
       "      <td>56337</td>\n",
       "      <td>435.0</td>\n",
       "      <td>1999</td>\n",
       "      <td>/work/shelves/2402163</td>\n",
       "      <td>Harry Potter</td>\n",
       "      <td>2</td>\n",
       "    </tr>\n",
       "  </tbody>\n",
       "</table>\n",
       "</div>"
      ],
      "text/plain": [
       "   BookID                                      Title  \\\n",
       "0       1     Harry Potter and the Half-Blood Prince   \n",
       "1       2  Harry Potter and the Order of the Phoenix   \n",
       "2       3      Harry Potter and the Sorcerer's Stone   \n",
       "3       4    Harry Potter and the Chamber of Secrets   \n",
       "4       5   Harry Potter and the Prisoner of Azkaban   \n",
       "\n",
       "                        Author  Rate   Raters  Reviewers  Pages PublishYear  \\\n",
       "0                 J.K. Rowling  4.57  2469197      40043  652.0        2005   \n",
       "1  J.K. Rowling, Mary GrandPré  4.50  2541611      43067  870.0        2003   \n",
       "2  J.K. Rowling, Mary GrandPré  4.47  7145889     113905  309.0        1997   \n",
       "3                 J.K. Rowling  4.43  2766218      53651  352.0        1998   \n",
       "4  J.K. Rowling, Mary GrandPré  4.57  2849671      56337  435.0        1999   \n",
       "\n",
       "                GenreLink        Series  review  \n",
       "0  /work/shelves/41335427  Harry Potter       2  \n",
       "1   /work/shelves/2809203  Harry Potter       2  \n",
       "2   /work/shelves/4640799  Harry Potter       2  \n",
       "3   /work/shelves/6231171  Harry Potter       2  \n",
       "4   /work/shelves/2402163  Harry Potter       2  "
      ]
     },
     "execution_count": 9,
     "metadata": {},
     "output_type": "execute_result"
    }
   ],
   "source": [
    "conditions = [\n",
    "    (clean_v4['Rate'] < 3.2),\n",
    "    (clean_v4['Rate'] >= 3.2) & (clean_v4['Rate'] < 3.8),\n",
    "    (clean_v4['Rate'] >= 3.8) \n",
    "    ]\n",
    "\n",
    "values = [0, 1, 2]\n",
    "\n",
    "# create a new column and use np.select to assign values to it using our lists as arguments\n",
    "clean_v4['review'] = np.select(conditions, values)\n",
    "\n",
    "clean_v4.head()"
   ]
  },
  {
   "cell_type": "code",
   "execution_count": 10,
   "metadata": {},
   "outputs": [],
   "source": [
    "clean_v5 = clean_v4[clean_v4['PublishYear'].str.isdigit()]\n",
    "clean_v5 = clean_v5.astype({'PublishYear': 'int32'})"
   ]
  },
  {
   "cell_type": "code",
   "execution_count": 11,
   "metadata": {},
   "outputs": [],
   "source": [
    "clean_v5.to_csv('data/book_data.csv', index=False)"
   ]
  },
  {
   "cell_type": "code",
   "execution_count": 12,
   "metadata": {},
   "outputs": [
    {
     "data": {
      "text/plain": [
       "array([0, 1, 2])"
      ]
     },
     "execution_count": 12,
     "metadata": {},
     "output_type": "execute_result"
    }
   ],
   "source": [
    "reviews = clean_v5.review.unique()\n",
    "reviews = np.sort(reviews)\n",
    "\n",
    "reviews"
   ]
  },
  {
   "cell_type": "code",
   "execution_count": 13,
   "metadata": {},
   "outputs": [
    {
     "data": {
      "text/plain": [
       "[1349, 29240, 67017]"
      ]
     },
     "execution_count": 13,
     "metadata": {},
     "output_type": "execute_result"
    }
   ],
   "source": [
    "books_by_rating = clean_v5.groupby('review').size().to_list()\n",
    "books_by_rating"
   ]
  },
  {
   "cell_type": "code",
   "execution_count": 14,
   "metadata": {},
   "outputs": [
    {
     "name": "stderr",
     "output_type": "stream",
     "text": [
      "C:\\Users\\Dell\\Desktop\\Data Science\\ds\\lib\\site-packages\\ipykernel_launcher.py:5: MatplotlibDeprecationWarning: Adding an axes using the same arguments as a previous axes currently reuses the earlier instance.  In a future version, a new instance will always be created and returned.  Meanwhile, this warning can be suppressed, and the future behavior ensured, by passing a unique label to each axes instance.\n",
      "  \"\"\"\n"
     ]
    },
    {
     "data": {
      "image/png": "[encoded data removed]",
      "text/plain": [
       "<Figure size 432x288 with 1 Axes>"
      ]
     },
     "metadata": {
      "needs_background": "light"
     },
     "output_type": "display_data"
    }
   ],
   "source": [
    "plt.bar(reviews, books_by_rating)\n",
    "\n",
    "names = ['Negative', 'Mixed', 'Positive']\n",
    "\n",
    "ax = plt.subplot()\n",
    "ax.set_xticks(range(len(reviews)))\n",
    "ax.set_xticklabels(names)\n",
    "\n",
    "plt.show()"
   ]
  }
 ],
 "metadata": {
  "kernelspec": {
   "display_name": "ds",
   "language": "python",
   "name": "ds"
  },
  "language_info": {
   "codemirror_mode": {
    "name": "ipython",
    "version": 3
   },
   "file_extension": ".py",
   "mimetype": "text/x-python",
   "name": "python",
   "nbconvert_exporter": "python",
   "pygments_lexer": "ipython3",
   "version": "3.7.4"
  }
 },
 "nbformat": 4,
 "nbformat_minor": 4
}
