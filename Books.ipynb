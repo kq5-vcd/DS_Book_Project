{
 "cells": [
  {
   "cell_type": "code",
   "execution_count": 2,
   "metadata": {},
   "outputs": [],
   "source": [
    "import pandas as pd\n",
    "import matplotlib.pyplot as plt\n",
    "import numpy as np"
   ]
  },
  {
   "cell_type": "code",
   "execution_count": 3,
   "metadata": {},
   "outputs": [],
   "source": [
    "data_raw_1 = pd.read_csv('goodreads/books_d.csv')\n",
    "data_raw_2 = pd.read_csv('goodreads/books_q.csv')\n",
    "data_raw_3 = pd.read_csv('goodreads/books_m.csv')"
   ]
  },
  {
   "cell_type": "code",
   "execution_count": 4,
   "metadata": {},
   "outputs": [
    {
     "data": {
      "text/plain": [
       "456032"
      ]
     },
     "execution_count": 4,
     "metadata": {},
     "output_type": "execute_result"
    }
   ],
   "source": [
    "data = pd.concat([data_raw_1, data_raw_2, data_raw_3])\n",
    "len(data)"
   ]
  },
  {
   "cell_type": "code",
   "execution_count": 5,
   "metadata": {},
   "outputs": [
    {
     "data": {
      "text/plain": [
       "0    4.57\n",
       "1    4.50\n",
       "2    4.47\n",
       "3    4.43\n",
       "4    4.57\n",
       "Name: Rate, dtype: float64"
      ]
     },
     "execution_count": 5,
     "metadata": {},
     "output_type": "execute_result"
    }
   ],
   "source": [
    "avg_rating = data['Rate']\n",
    "avg_rating.head()"
   ]
  },
  {
   "cell_type": "code",
   "execution_count": 6,
   "metadata": {},
   "outputs": [
    {
     "data": {
      "text/plain": [
       "281522"
      ]
     },
     "execution_count": 6,
     "metadata": {},
     "output_type": "execute_result"
    }
   ],
   "source": [
    "clean_v1 = data[~data.GenreLink.isnull()]\n",
    "\n",
    "len(clean_v1)"
   ]
  },
  {
   "cell_type": "code",
   "execution_count": 7,
   "metadata": {},
   "outputs": [
    {
     "data": {
      "text/plain": [
       "174894"
      ]
     },
     "execution_count": 7,
     "metadata": {},
     "output_type": "execute_result"
    }
   ],
   "source": [
    "clean_v2 = clean_v1[clean_v1[\"Raters\"] > 100]\n",
    "len(clean_v2)"
   ]
  },
  {
   "cell_type": "code",
   "execution_count": 9,
   "metadata": {},
   "outputs": [
    {
     "data": {
      "text/plain": [
       "152079"
      ]
     },
     "execution_count": 9,
     "metadata": {},
     "output_type": "execute_result"
    }
   ],
   "source": [
    "clean_v3 = clean_v2[clean_v2[\"Pages\"] > 0]\n",
    "len(clean_v3)"
   ]
  },
  {
   "cell_type": "code",
   "execution_count": 10,
   "metadata": {},
   "outputs": [
    {
     "data": {
      "text/plain": [
       "97618"
      ]
     },
     "execution_count": 10,
     "metadata": {},
     "output_type": "execute_result"
    }
   ],
   "source": [
    "clean_v4 = clean_v3.drop_duplicates(subset=\"GenreLink\")\n",
    "len(clean_v4)"
   ]
  },
  {
   "cell_type": "code",
   "execution_count": 12,
   "metadata": {},
   "outputs": [
    {
     "name": "stderr",
     "output_type": "stream",
     "text": [
      "C:\\Users\\Dell\\Miniconda3\\lib\\site-packages\\ipykernel_launcher.py:10: SettingWithCopyWarning: \n",
      "A value is trying to be set on a copy of a slice from a DataFrame.\n",
      "Try using .loc[row_indexer,col_indexer] = value instead\n",
      "\n",
      "See the caveats in the documentation: https://pandas.pydata.org/pandas-docs/stable/user_guide/indexing.html#returning-a-view-versus-a-copy\n",
      "  # Remove the CWD from sys.path while we load stuff.\n"
     ]
    },
    {
     "data": {
      "text/html": [
       "<div>\n",
       "<style scoped>\n",
       "    .dataframe tbody tr th:only-of-type {\n",
       "        vertical-align: middle;\n",
       "    }\n",
       "\n",
       "    .dataframe tbody tr th {\n",
       "        vertical-align: top;\n",
       "    }\n",
       "\n",
       "    .dataframe thead th {\n",
       "        text-align: right;\n",
       "    }\n",
       "</style>\n",
       "<table border=\"1\" class=\"dataframe\">\n",
       "  <thead>\n",
       "    <tr style=\"text-align: right;\">\n",
       "      <th></th>\n",
       "      <th>BookID</th>\n",
       "      <th>Title</th>\n",
       "      <th>Author</th>\n",
       "      <th>Rate</th>\n",
       "      <th>Raters</th>\n",
       "      <th>Reviewers</th>\n",
       "      <th>Pages</th>\n",
       "      <th>PublishYear</th>\n",
       "      <th>GenreLink</th>\n",
       "      <th>Series</th>\n",
       "      <th>review</th>\n",
       "    </tr>\n",
       "  </thead>\n",
       "  <tbody>\n",
       "    <tr>\n",
       "      <th>0</th>\n",
       "      <td>1</td>\n",
       "      <td>Harry Potter and the Half-Blood Prince</td>\n",
       "      <td>J.K. Rowling</td>\n",
       "      <td>4.57</td>\n",
       "      <td>2469197</td>\n",
       "      <td>40043</td>\n",
       "      <td>652.0</td>\n",
       "      <td>2005</td>\n",
       "      <td>/work/shelves/41335427</td>\n",
       "      <td>Harry Potter</td>\n",
       "      <td>2</td>\n",
       "    </tr>\n",
       "    <tr>\n",
       "      <th>1</th>\n",
       "      <td>2</td>\n",
       "      <td>Harry Potter and the Order of the Phoenix</td>\n",
       "      <td>J.K. Rowling, Mary GrandPré</td>\n",
       "      <td>4.50</td>\n",
       "      <td>2541611</td>\n",
       "      <td>43067</td>\n",
       "      <td>870.0</td>\n",
       "      <td>2003</td>\n",
       "      <td>/work/shelves/2809203</td>\n",
       "      <td>Harry Potter</td>\n",
       "      <td>2</td>\n",
       "    </tr>\n",
       "    <tr>\n",
       "      <th>2</th>\n",
       "      <td>3</td>\n",
       "      <td>Harry Potter and the Sorcerer's Stone</td>\n",
       "      <td>J.K. Rowling, Mary GrandPré</td>\n",
       "      <td>4.47</td>\n",
       "      <td>7145889</td>\n",
       "      <td>113905</td>\n",
       "      <td>309.0</td>\n",
       "      <td>1997</td>\n",
       "      <td>/work/shelves/4640799</td>\n",
       "      <td>Harry Potter</td>\n",
       "      <td>2</td>\n",
       "    </tr>\n",
       "    <tr>\n",
       "      <th>3</th>\n",
       "      <td>4</td>\n",
       "      <td>Harry Potter and the Chamber of Secrets</td>\n",
       "      <td>J.K. Rowling</td>\n",
       "      <td>4.43</td>\n",
       "      <td>2766218</td>\n",
       "      <td>53651</td>\n",
       "      <td>352.0</td>\n",
       "      <td>1998</td>\n",
       "      <td>/work/shelves/6231171</td>\n",
       "      <td>Harry Potter</td>\n",
       "      <td>2</td>\n",
       "    </tr>\n",
       "    <tr>\n",
       "      <th>4</th>\n",
       "      <td>5</td>\n",
       "      <td>Harry Potter and the Prisoner of Azkaban</td>\n",
       "      <td>J.K. Rowling, Mary GrandPré</td>\n",
       "      <td>4.57</td>\n",
       "      <td>2849671</td>\n",
       "      <td>56337</td>\n",
       "      <td>435.0</td>\n",
       "      <td>1999</td>\n",
       "      <td>/work/shelves/2402163</td>\n",
       "      <td>Harry Potter</td>\n",
       "      <td>2</td>\n",
       "    </tr>\n",
       "  </tbody>\n",
       "</table>\n",
       "</div>"
      ],
      "text/plain": [
       "   BookID                                      Title  \\\n",
       "0       1     Harry Potter and the Half-Blood Prince   \n",
       "1       2  Harry Potter and the Order of the Phoenix   \n",
       "2       3      Harry Potter and the Sorcerer's Stone   \n",
       "3       4    Harry Potter and the Chamber of Secrets   \n",
       "4       5   Harry Potter and the Prisoner of Azkaban   \n",
       "\n",
       "                        Author  Rate   Raters  Reviewers  Pages PublishYear  \\\n",
       "0                 J.K. Rowling  4.57  2469197      40043  652.0        2005   \n",
       "1  J.K. Rowling, Mary GrandPré  4.50  2541611      43067  870.0        2003   \n",
       "2  J.K. Rowling, Mary GrandPré  4.47  7145889     113905  309.0        1997   \n",
       "3                 J.K. Rowling  4.43  2766218      53651  352.0        1998   \n",
       "4  J.K. Rowling, Mary GrandPré  4.57  2849671      56337  435.0        1999   \n",
       "\n",
       "                GenreLink        Series  review  \n",
       "0  /work/shelves/41335427  Harry Potter       2  \n",
       "1   /work/shelves/2809203  Harry Potter       2  \n",
       "2   /work/shelves/4640799  Harry Potter       2  \n",
       "3   /work/shelves/6231171  Harry Potter       2  \n",
       "4   /work/shelves/2402163  Harry Potter       2  "
      ]
     },
     "execution_count": 12,
     "metadata": {},
     "output_type": "execute_result"
    }
   ],
   "source": [
    "conditions = [\n",
    "    (clean_v4['Rate'] < 3),\n",
    "    (clean_v4['Rate'] >= 3) & (clean_v4['Rate'] < 3.8),\n",
    "    (clean_v4['Rate'] >= 3.8) \n",
    "    ]\n",
    "\n",
    "values = [0, 1, 2]\n",
    "\n",
    "# create a new column and use np.select to assign values to it using our lists as arguments\n",
    "clean_v4['review'] = np.select(conditions, values)\n",
    "\n",
    "clean_v4.head()"
   ]
  },
  {
   "cell_type": "code",
   "execution_count": 13,
   "metadata": {},
   "outputs": [],
   "source": [
    "clean_v4.to_csv('goodreads/actual_data.csv', index=False)"
   ]
  },
  {
   "cell_type": "code",
   "execution_count": 18,
   "metadata": {},
   "outputs": [
    {
     "data": {
      "text/html": [
       "<div>\n",
       "<style scoped>\n",
       "    .dataframe tbody tr th:only-of-type {\n",
       "        vertical-align: middle;\n",
       "    }\n",
       "\n",
       "    .dataframe tbody tr th {\n",
       "        vertical-align: top;\n",
       "    }\n",
       "\n",
       "    .dataframe thead th {\n",
       "        text-align: right;\n",
       "    }\n",
       "</style>\n",
       "<table border=\"1\" class=\"dataframe\">\n",
       "  <thead>\n",
       "    <tr style=\"text-align: right;\">\n",
       "      <th></th>\n",
       "      <th>BookID</th>\n",
       "      <th>Title</th>\n",
       "      <th>Author</th>\n",
       "      <th>Rate</th>\n",
       "      <th>Raters</th>\n",
       "      <th>Reviewers</th>\n",
       "      <th>Pages</th>\n",
       "      <th>PublishYear</th>\n",
       "      <th>GenreLink</th>\n",
       "      <th>Series</th>\n",
       "      <th>review</th>\n",
       "    </tr>\n",
       "  </thead>\n",
       "  <tbody>\n",
       "    <tr>\n",
       "      <th>28532</th>\n",
       "      <td>29906</td>\n",
       "      <td>The Collected Dialogues</td>\n",
       "      <td>Plato, Edith Hamilton, Huntington Cairns</td>\n",
       "      <td>4.43</td>\n",
       "      <td>706</td>\n",
       "      <td>31</td>\n",
       "      <td>1776.0</td>\n",
       "      <td>uary</td>\n",
       "      <td>/work/shelves/46180345</td>\n",
       "      <td>NaN</td>\n",
       "      <td>2</td>\n",
       "    </tr>\n",
       "    <tr>\n",
       "      <th>133358</th>\n",
       "      <td>441945</td>\n",
       "      <td>Dhammapada: Essential Teachings of Shakyamuni ...</td>\n",
       "      <td>Anonymous, Gautama Buddha, Dge-ʼdun-chos-ʼphel</td>\n",
       "      <td>4.26</td>\n",
       "      <td>23550</td>\n",
       "      <td>932</td>\n",
       "      <td>381.0</td>\n",
       "      <td>uary</td>\n",
       "      <td>/work/shelves/154391</td>\n",
       "      <td>NaN</td>\n",
       "      <td>2</td>\n",
       "    </tr>\n",
       "    <tr>\n",
       "      <th>134513</th>\n",
       "      <td>443246</td>\n",
       "      <td>Pro M. Caelio Oratio</td>\n",
       "      <td>Marcus Tullius Cicero, R.G. Austin</td>\n",
       "      <td>3.74</td>\n",
       "      <td>214</td>\n",
       "      <td>16</td>\n",
       "      <td>212.0</td>\n",
       "      <td>-62</td>\n",
       "      <td>/work/shelves/432024</td>\n",
       "      <td>NaN</td>\n",
       "      <td>1</td>\n",
       "    </tr>\n",
       "    <tr>\n",
       "      <th>137241</th>\n",
       "      <td>446288</td>\n",
       "      <td>Le gone du Chaâba</td>\n",
       "      <td>Azouz Begag</td>\n",
       "      <td>3.59</td>\n",
       "      <td>748</td>\n",
       "      <td>34</td>\n",
       "      <td>243.0</td>\n",
       "      <td>mber</td>\n",
       "      <td>/work/shelves/674285</td>\n",
       "      <td>NaN</td>\n",
       "      <td>1</td>\n",
       "    </tr>\n",
       "    <tr>\n",
       "      <th>140370</th>\n",
       "      <td>449761</td>\n",
       "      <td>The Gospel According to Mark</td>\n",
       "      <td>Anonymous, Barry Hannah</td>\n",
       "      <td>4.50</td>\n",
       "      <td>551</td>\n",
       "      <td>67</td>\n",
       "      <td>64.0</td>\n",
       "      <td>t 70</td>\n",
       "      <td>/work/shelves/1943661</td>\n",
       "      <td>Bible</td>\n",
       "      <td>2</td>\n",
       "    </tr>\n",
       "    <tr>\n",
       "      <th>14697</th>\n",
       "      <td>115505</td>\n",
       "      <td>Anthropology: The Exploration of Human Diversity</td>\n",
       "      <td>Conrad Phillip Kottak</td>\n",
       "      <td>3.85</td>\n",
       "      <td>121</td>\n",
       "      <td>5</td>\n",
       "      <td>720.0</td>\n",
       "      <td>June</td>\n",
       "      <td>/work/shelves/127546</td>\n",
       "      <td>NaN</td>\n",
       "      <td>2</td>\n",
       "    </tr>\n",
       "    <tr>\n",
       "      <th>40508</th>\n",
       "      <td>143086</td>\n",
       "      <td>Recogiendo Poemas</td>\n",
       "      <td>Jaime Sabines</td>\n",
       "      <td>4.52</td>\n",
       "      <td>211</td>\n",
       "      <td>13</td>\n",
       "      <td>77.0</td>\n",
       "      <td>Sa</td>\n",
       "      <td>/work/shelves/138021</td>\n",
       "      <td>NaN</td>\n",
       "      <td>2</td>\n",
       "    </tr>\n",
       "    <tr>\n",
       "      <th>109367</th>\n",
       "      <td>319588</td>\n",
       "      <td>Supply Chain Management: Strategy, Planning, a...</td>\n",
       "      <td>Sunil Chopra, Peter Meindl</td>\n",
       "      <td>4.11</td>\n",
       "      <td>508</td>\n",
       "      <td>19</td>\n",
       "      <td>536.0</td>\n",
       "      <td>t 20</td>\n",
       "      <td>/work/shelves/1457919</td>\n",
       "      <td>NaN</td>\n",
       "      <td>2</td>\n",
       "    </tr>\n",
       "    <tr>\n",
       "      <th>113781</th>\n",
       "      <td>324553</td>\n",
       "      <td>Fundamentals of Nursing: The Art and Science o...</td>\n",
       "      <td>Carol R. Taylor, Priscilla LeMone, Carol Lilli...</td>\n",
       "      <td>3.84</td>\n",
       "      <td>182</td>\n",
       "      <td>9</td>\n",
       "      <td>1856.0</td>\n",
       "      <td>uary</td>\n",
       "      <td>/work/shelves/315248</td>\n",
       "      <td>NaN</td>\n",
       "      <td>2</td>\n",
       "    </tr>\n",
       "    <tr>\n",
       "      <th>136848</th>\n",
       "      <td>350490</td>\n",
       "      <td>The Virtuous Knight</td>\n",
       "      <td>Margo Maguire</td>\n",
       "      <td>3.73</td>\n",
       "      <td>163</td>\n",
       "      <td>13</td>\n",
       "      <td>304.0</td>\n",
       "      <td>mber</td>\n",
       "      <td>/work/shelves/340739</td>\n",
       "      <td>Medieval Brides</td>\n",
       "      <td>1</td>\n",
       "    </tr>\n",
       "    <tr>\n",
       "      <th>30133</th>\n",
       "      <td>233586</td>\n",
       "      <td>Las Visiones De Lucrecia</td>\n",
       "      <td>José María Merino</td>\n",
       "      <td>3.03</td>\n",
       "      <td>120</td>\n",
       "      <td>27</td>\n",
       "      <td>341.0</td>\n",
       "      <td>t 13</td>\n",
       "      <td>/work/shelves/8959471</td>\n",
       "      <td>NaN</td>\n",
       "      <td>1</td>\n",
       "    </tr>\n",
       "    <tr>\n",
       "      <th>72809</th>\n",
       "      <td>281072</td>\n",
       "      <td>Change Almost Anything in 21 Days: Recharge Yo...</td>\n",
       "      <td>Ruth Fishel, Bonny Van de Kamp</td>\n",
       "      <td>3.59</td>\n",
       "      <td>334</td>\n",
       "      <td>56</td>\n",
       "      <td>200.0</td>\n",
       "      <td>uary</td>\n",
       "      <td>/work/shelves/272661</td>\n",
       "      <td>NaN</td>\n",
       "      <td>1</td>\n",
       "    </tr>\n",
       "  </tbody>\n",
       "</table>\n",
       "</div>"
      ],
      "text/plain": [
       "        BookID                                              Title  \\\n",
       "28532    29906                            The Collected Dialogues   \n",
       "133358  441945  Dhammapada: Essential Teachings of Shakyamuni ...   \n",
       "134513  443246                               Pro M. Caelio Oratio   \n",
       "137241  446288                                  Le gone du Chaâba   \n",
       "140370  449761                       The Gospel According to Mark   \n",
       "14697   115505   Anthropology: The Exploration of Human Diversity   \n",
       "40508   143086                                  Recogiendo Poemas   \n",
       "109367  319588  Supply Chain Management: Strategy, Planning, a...   \n",
       "113781  324553  Fundamentals of Nursing: The Art and Science o...   \n",
       "136848  350490                                The Virtuous Knight   \n",
       "30133   233586                           Las Visiones De Lucrecia   \n",
       "72809   281072  Change Almost Anything in 21 Days: Recharge Yo...   \n",
       "\n",
       "                                                   Author  Rate  Raters  \\\n",
       "28532            Plato, Edith Hamilton, Huntington Cairns  4.43     706   \n",
       "133358     Anonymous, Gautama Buddha, Dge-ʼdun-chos-ʼphel  4.26   23550   \n",
       "134513                 Marcus Tullius Cicero, R.G. Austin  3.74     214   \n",
       "137241                                        Azouz Begag  3.59     748   \n",
       "140370                            Anonymous, Barry Hannah  4.50     551   \n",
       "14697                               Conrad Phillip Kottak  3.85     121   \n",
       "40508                                       Jaime Sabines  4.52     211   \n",
       "109367                         Sunil Chopra, Peter Meindl  4.11     508   \n",
       "113781  Carol R. Taylor, Priscilla LeMone, Carol Lilli...  3.84     182   \n",
       "136848                                      Margo Maguire  3.73     163   \n",
       "30133                                   José María Merino  3.03     120   \n",
       "72809                      Ruth Fishel, Bonny Van de Kamp  3.59     334   \n",
       "\n",
       "        Reviewers   Pages PublishYear               GenreLink  \\\n",
       "28532          31  1776.0        uary  /work/shelves/46180345   \n",
       "133358        932   381.0        uary    /work/shelves/154391   \n",
       "134513         16   212.0         -62    /work/shelves/432024   \n",
       "137241         34   243.0        mber    /work/shelves/674285   \n",
       "140370         67    64.0        t 70   /work/shelves/1943661   \n",
       "14697           5   720.0        June    /work/shelves/127546   \n",
       "40508          13    77.0          Sa    /work/shelves/138021   \n",
       "109367         19   536.0        t 20   /work/shelves/1457919   \n",
       "113781          9  1856.0        uary    /work/shelves/315248   \n",
       "136848         13   304.0        mber    /work/shelves/340739   \n",
       "30133          27   341.0        t 13   /work/shelves/8959471   \n",
       "72809          56   200.0        uary    /work/shelves/272661   \n",
       "\n",
       "                 Series  review  \n",
       "28532               NaN       2  \n",
       "133358              NaN       2  \n",
       "134513              NaN       1  \n",
       "137241              NaN       1  \n",
       "140370            Bible       2  \n",
       "14697               NaN       2  \n",
       "40508               NaN       2  \n",
       "109367              NaN       2  \n",
       "113781              NaN       2  \n",
       "136848  Medieval Brides       1  \n",
       "30133               NaN       1  \n",
       "72809               NaN       1  "
      ]
     },
     "execution_count": 18,
     "metadata": {},
     "output_type": "execute_result"
    }
   ],
   "source": [
    "clean_v4[~clean_v4['PublishYear'].str.isdigit()]"
   ]
  },
  {
   "cell_type": "code",
   "execution_count": 24,
   "metadata": {},
   "outputs": [
    {
     "data": {
      "text/html": [
       "<div>\n",
       "<style scoped>\n",
       "    .dataframe tbody tr th:only-of-type {\n",
       "        vertical-align: middle;\n",
       "    }\n",
       "\n",
       "    .dataframe tbody tr th {\n",
       "        vertical-align: top;\n",
       "    }\n",
       "\n",
       "    .dataframe thead th {\n",
       "        text-align: right;\n",
       "    }\n",
       "</style>\n",
       "<table border=\"1\" class=\"dataframe\">\n",
       "  <thead>\n",
       "    <tr style=\"text-align: right;\">\n",
       "      <th></th>\n",
       "      <th>Raters</th>\n",
       "      <th>Reviewers</th>\n",
       "      <th>Pages</th>\n",
       "      <th>PublishYear</th>\n",
       "    </tr>\n",
       "  </thead>\n",
       "  <tbody>\n",
       "    <tr>\n",
       "      <th>0</th>\n",
       "      <td>2469197</td>\n",
       "      <td>40043</td>\n",
       "      <td>652.0</td>\n",
       "      <td>2005</td>\n",
       "    </tr>\n",
       "    <tr>\n",
       "      <th>1</th>\n",
       "      <td>2541611</td>\n",
       "      <td>43067</td>\n",
       "      <td>870.0</td>\n",
       "      <td>2003</td>\n",
       "    </tr>\n",
       "    <tr>\n",
       "      <th>2</th>\n",
       "      <td>7145889</td>\n",
       "      <td>113905</td>\n",
       "      <td>309.0</td>\n",
       "      <td>1997</td>\n",
       "    </tr>\n",
       "    <tr>\n",
       "      <th>3</th>\n",
       "      <td>2766218</td>\n",
       "      <td>53651</td>\n",
       "      <td>352.0</td>\n",
       "      <td>1998</td>\n",
       "    </tr>\n",
       "    <tr>\n",
       "      <th>4</th>\n",
       "      <td>2849671</td>\n",
       "      <td>56337</td>\n",
       "      <td>435.0</td>\n",
       "      <td>1999</td>\n",
       "    </tr>\n",
       "  </tbody>\n",
       "</table>\n",
       "</div>"
      ],
      "text/plain": [
       "    Raters  Reviewers  Pages PublishYear\n",
       "0  2469197      40043  652.0        2005\n",
       "1  2541611      43067  870.0        2003\n",
       "2  7145889     113905  309.0        1997\n",
       "3  2766218      53651  352.0        1998\n",
       "4  2849671      56337  435.0        1999"
      ]
     },
     "execution_count": 24,
     "metadata": {},
     "output_type": "execute_result"
    }
   ],
   "source": [
    "info = clean_v4[['Raters', 'Reviewers', 'Pages', 'PublishYear']]\n",
    "\n",
    "info.head()"
   ]
  },
  {
   "cell_type": "code",
   "execution_count": null,
   "metadata": {},
   "outputs": [],
   "source": [
    "labels = clean_v3.review"
   ]
  }
 ],
 "metadata": {
  "kernelspec": {
   "display_name": "Python 3",
   "language": "python",
   "name": "python3"
  },
  "language_info": {
   "codemirror_mode": {
    "name": "ipython",
    "version": 3
   },
   "file_extension": ".py",
   "mimetype": "text/x-python",
   "name": "python",
   "nbconvert_exporter": "python",
   "pygments_lexer": "ipython3",
   "version": "3.7.4"
  }
 },
 "nbformat": 4,
 "nbformat_minor": 4
}
