{
 "cells": [
  {
   "cell_type": "code",
   "execution_count": 14,
   "execution_count": 1,
   "metadata": {},
   "outputs": [],
   "source": [
    "import pandas as pd"
   ]
  },
  {
   "cell_type": "code",
   "execution_count": 3,
   "metadata": {},
   "outputs": [
    {
     "data": {
      "text/html": [
       "<div>\n",
       "<style scoped>\n",
       "    .dataframe tbody tr th:only-of-type {\n",
       "        vertical-align: middle;\n",
       "    }\n",
       "\n",
       "    .dataframe tbody tr th {\n",
       "        vertical-align: top;\n",
       "    }\n",
       "\n",
       "    .dataframe thead th {\n",
       "        text-align: right;\n",
       "    }\n",
       "</style>\n",
       "<table border=\"1\" class=\"dataframe\">\n",
       "  <thead>\n",
       "    <tr style=\"text-align: right;\">\n",
       "      <th></th>\n",
       "      <th>BookID</th>\n",
       "      <th>Title</th>\n",
       "      <th>Author</th>\n",
       "      <th>Rate</th>\n",
       "      <th>Raters</th>\n",
       "      <th>Reviewers</th>\n",
       "      <th>Pages</th>\n",
       "      <th>PublishYear</th>\n",
       "      <th>GenreLink</th>\n",
       "      <th>Series</th>\n",
       "    </tr>\n",
       "  </thead>\n",
       "  <tbody>\n",
       "    <tr>\n",
       "      <th>0</th>\n",
       "      <td>1</td>\n",
       "      <td>Harry Potter and the Half-Blood Prince</td>\n",
       "      <td>J.K. Rowling</td>\n",
       "      <td>4.57</td>\n",
       "      <td>2469197</td>\n",
       "      <td>40043</td>\n",
       "      <td>652.0</td>\n",
       "      <td>2005</td>\n",
       "      <td>/work/shelves/41335427</td>\n",
       "      <td>Harry Potter</td>\n",
       "    </tr>\n",
       "    <tr>\n",
       "      <th>1</th>\n",
       "      <td>2</td>\n",
       "      <td>Harry Potter and the Order of the Phoenix</td>\n",
       "      <td>J.K. Rowling, Mary GrandPré</td>\n",
       "      <td>4.50</td>\n",
       "      <td>2541611</td>\n",
       "      <td>43067</td>\n",
       "      <td>870.0</td>\n",
       "      <td>2003</td>\n",
       "      <td>/work/shelves/2809203</td>\n",
       "      <td>Harry Potter</td>\n",
       "    </tr>\n",
       "    <tr>\n",
       "      <th>2</th>\n",
       "      <td>3</td>\n",
       "      <td>Harry Potter and the Sorcerer's Stone</td>\n",
       "      <td>J.K. Rowling, Mary GrandPré</td>\n",
       "      <td>4.47</td>\n",
       "      <td>7145889</td>\n",
       "      <td>113905</td>\n",
       "      <td>309.0</td>\n",
       "      <td>1997</td>\n",
       "      <td>/work/shelves/4640799</td>\n",
       "      <td>Harry Potter</td>\n",
       "    </tr>\n",
       "    <tr>\n",
       "      <th>3</th>\n",
       "      <td>4</td>\n",
       "      <td>Harry Potter and the Chamber of Secrets</td>\n",
       "      <td>J.K. Rowling</td>\n",
       "      <td>4.43</td>\n",
       "      <td>2766218</td>\n",
       "      <td>53651</td>\n",
       "      <td>352.0</td>\n",
       "      <td>1998</td>\n",
       "      <td>/work/shelves/6231171</td>\n",
       "      <td>Harry Potter</td>\n",
       "    </tr>\n",
       "    <tr>\n",
       "      <th>4</th>\n",
       "      <td>5</td>\n",
       "      <td>Harry Potter and the Prisoner of Azkaban</td>\n",
       "      <td>J.K. Rowling, Mary GrandPré</td>\n",
       "      <td>4.57</td>\n",
       "      <td>2849671</td>\n",
       "      <td>56337</td>\n",
       "      <td>435.0</td>\n",
       "      <td>1999</td>\n",
       "      <td>/work/shelves/2402163</td>\n",
       "      <td>Harry Potter</td>\n",
       "    </tr>\n",
       "    <tr>\n",
       "      <th>5</th>\n",
       "      <td>6</td>\n",
       "      <td>Harry Potter and the Goblet of Fire</td>\n",
       "      <td>J.K. Rowling, Mary GrandPré</td>\n",
       "      <td>4.56</td>\n",
       "      <td>2629499</td>\n",
       "      <td>47225</td>\n",
       "      <td>734.0</td>\n",
       "      <td>2000</td>\n",
       "      <td>/work/shelves/3046572</td>\n",
       "      <td>Harry Potter</td>\n",
       "    </tr>\n",
       "    <tr>\n",
       "      <th>6</th>\n",
       "      <td>7</td>\n",
       "      <td>The Harry Potter Collection</td>\n",
       "      <td>J.K. Rowling, Mary GrandPré</td>\n",
       "      <td>4.73</td>\n",
       "      <td>31031</td>\n",
       "      <td>968</td>\n",
       "      <td>NaN</td>\n",
       "      <td>2005</td>\n",
       "      <td>/work/shelves/21457570</td>\n",
       "      <td>Harry Potter</td>\n",
       "    </tr>\n",
       "    <tr>\n",
       "      <th>7</th>\n",
       "      <td>8</td>\n",
       "      <td>Harry Potter Boxed Set, Books 1-5 (Harry Potte...</td>\n",
       "      <td>J.K. Rowling, Mary GrandPré</td>\n",
       "      <td>4.78</td>\n",
       "      <td>54432</td>\n",
       "      <td>182</td>\n",
       "      <td>2690.0</td>\n",
       "      <td>2003</td>\n",
       "      <td>/work/shelves/21457576</td>\n",
       "      <td>NaN</td>\n",
       "    </tr>\n",
       "    <tr>\n",
       "      <th>8</th>\n",
       "      <td>9</td>\n",
       "      <td>Unauthorized Harry Potter Book Seven News: \"Ha...</td>\n",
       "      <td>W. Frederick Zimmerman</td>\n",
       "      <td>3.83</td>\n",
       "      <td>29</td>\n",
       "      <td>1</td>\n",
       "      <td>152.0</td>\n",
       "      <td>2005</td>\n",
       "      <td>NaN</td>\n",
       "      <td>NaN</td>\n",
       "    </tr>\n",
       "    <tr>\n",
       "      <th>9</th>\n",
       "      <td>10</td>\n",
       "      <td>Harry Potter Collection</td>\n",
       "      <td>J.K. Rowling</td>\n",
       "      <td>4.73</td>\n",
       "      <td>31030</td>\n",
       "      <td>968</td>\n",
       "      <td>3342.0</td>\n",
       "      <td>2005</td>\n",
       "      <td>/work/shelves/21457570</td>\n",
       "      <td>Harry Potter</td>\n",
       "    </tr>\n",
       "  </tbody>\n",
       "</table>\n",
       "</div>"
      ],
      "text/plain": [
       "   BookID                                              Title  \\\n",
       "0       1             Harry Potter and the Half-Blood Prince   \n",
       "1       2          Harry Potter and the Order of the Phoenix   \n",
       "2       3              Harry Potter and the Sorcerer's Stone   \n",
       "3       4            Harry Potter and the Chamber of Secrets   \n",
       "4       5           Harry Potter and the Prisoner of Azkaban   \n",
       "5       6                Harry Potter and the Goblet of Fire   \n",
       "6       7                        The Harry Potter Collection   \n",
       "7       8  Harry Potter Boxed Set, Books 1-5 (Harry Potte...   \n",
       "8       9  Unauthorized Harry Potter Book Seven News: \"Ha...   \n",
       "9      10                            Harry Potter Collection   \n",
       "\n",
       "                        Author  Rate   Raters  Reviewers   Pages PublishYear  \\\n",
       "0                 J.K. Rowling  4.57  2469197      40043   652.0        2005   \n",
       "1  J.K. Rowling, Mary GrandPré  4.50  2541611      43067   870.0        2003   \n",
       "2  J.K. Rowling, Mary GrandPré  4.47  7145889     113905   309.0        1997   \n",
       "3                 J.K. Rowling  4.43  2766218      53651   352.0        1998   \n",
       "4  J.K. Rowling, Mary GrandPré  4.57  2849671      56337   435.0        1999   \n",
       "5  J.K. Rowling, Mary GrandPré  4.56  2629499      47225   734.0        2000   \n",
       "6  J.K. Rowling, Mary GrandPré  4.73    31031        968     NaN        2005   \n",
       "7  J.K. Rowling, Mary GrandPré  4.78    54432        182  2690.0        2003   \n",
       "8       W. Frederick Zimmerman  3.83       29          1   152.0        2005   \n",
       "9                 J.K. Rowling  4.73    31030        968  3342.0        2005   \n",
       "\n",
       "                GenreLink        Series  \n",
       "0  /work/shelves/41335427  Harry Potter  \n",
       "1   /work/shelves/2809203  Harry Potter  \n",
       "2   /work/shelves/4640799  Harry Potter  \n",
       "3   /work/shelves/6231171  Harry Potter  \n",
       "4   /work/shelves/2402163  Harry Potter  \n",
       "5   /work/shelves/3046572  Harry Potter  \n",
       "6  /work/shelves/21457570  Harry Potter  \n",
       "7  /work/shelves/21457576           NaN  \n",
       "8                     NaN           NaN  \n",
       "9  /work/shelves/21457570  Harry Potter  "
      ]
     },
     "execution_count": 3,
     "metadata": {},
     "output_type": "execute_result"
    }
   ],
   "source": [
    "data_raw_1 = pd.read_csv('goodreads/books_d.csv')\n",
    "data_raw_2 = pd.read_csv('goodreads/books_q.csv')\n",
    "\n",
    "data_raw_1.head(10)"
   ]
  },
  {
   "cell_type": "code",
   "execution_count": 4,
   "metadata": {},
   "outputs": [
    {
     "data": {
      "text/plain": [
       "366160"
      ]
     },
     "execution_count": 4,
     "metadata": {},
     "output_type": "execute_result"
    }
   ],
   "source": [
    "data = pd.concat([data_raw_1, data_raw_2])\n",
    "len(data)"
   ]
  },
  {
   "cell_type": "code",
   "execution_count": 6,
   "metadata": {},
   "outputs": [
    {
     "data": {
      "text/plain": [
       "0    4.57\n",
       "1    4.50\n",
       "2    4.47\n",
       "3    4.43\n",
       "4    4.57\n",
       "Name: Rate, dtype: float64"
      ]
     },
     "execution_count": 6,
     "metadata": {},
     "output_type": "execute_result"
    }
   ],
   "source": [
    "avg_rating = data['Rate']\n",
    "avg_rating.head()"
   ]
  },
  {
   "cell_type": "code",
   "execution_count": 8,
   "metadata": {},
   "outputs": [
    {
     "data": {
      "text/plain": [
       "226743"
      ]
     },
     "execution_count": 8,
     "metadata": {},
     "output_type": "execute_result"
    }
   ],
   "source": [
    "clean_v1 = data[~data.GenreLink.isnull()]\n",
    "\n",
    "len(clean_v1)"
   ]
  },
  {
   "cell_type": "code",
   "execution_count": 11,
   "metadata": {},
   "outputs": [
    {
     "data": {
      "text/plain": [
       "142240"
      ]
     },
     "execution_count": 11,
     "metadata": {},
     "output_type": "execute_result"
    }
   ],
   "source": [
    "clean_v2 = clean_v1[clean_v1[\"Raters\"] > 100]\n",
    "len(clean_v2)"
   ]
  },
  {
   "cell_type": "code",
   "execution_count": 16,
   "metadata": {},
   "outputs": [
    {
     "data": {
      "text/plain": [
       "85651"
      ]
     },
     "execution_count": 16,
     "metadata": {},
     "output_type": "execute_result"
    }
   ],
   "source": [
    "clean_v3 = clean_v2.drop_duplicates(subset=\"GenreLink\")\n",
    "len(clean_v3)"
   ]
  },
  {
   "cell_type": "code",
   "execution_count": 17,
   "metadata": {},
   "outputs": [],
   "source": [
    "clean_v3.to_csv('goodreads/actual_data.csv', index=False)"
   ]
  },
  {
   "cell_type": "code",
   "execution_count": null,
   "metadata": {},
   "outputs": [],
   "source": []
  }
 ],
 "metadata": {
  "kernelspec": {
   "display_name": "Python 3",
   "language": "python",
   "name": "python3"
  },
  "language_info": {
   "codemirror_mode": {
    "name": "ipython",
    "version": 3
   },
   "file_extension": ".py",
   "mimetype": "text/x-python",
   "name": "python",
   "nbconvert_exporter": "python",
   "pygments_lexer": "ipython3",
   "version": "3.7.4"
  }
 },
 "nbformat": 4,
 "nbformat_minor": 4
}
