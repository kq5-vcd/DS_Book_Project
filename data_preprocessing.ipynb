{
 "cells": [
  {
   "cell_type": "code",
   "execution_count": 1,
   "metadata": {},
   "outputs": [],
   "source": [
    "import pandas as pd\n",
    "import numpy as np"
   ]
  },
  {
   "cell_type": "code",
   "execution_count": 3,
   "metadata": {},
   "outputs": [
    {
     "data": {
      "text/html": [
       "<div>\n",
       "<style scoped>\n",
       "    .dataframe tbody tr th:only-of-type {\n",
       "        vertical-align: middle;\n",
       "    }\n",
       "\n",
       "    .dataframe tbody tr th {\n",
       "        vertical-align: top;\n",
       "    }\n",
       "\n",
       "    .dataframe thead th {\n",
       "        text-align: right;\n",
       "    }\n",
       "</style>\n",
       "<table border=\"1\" class=\"dataframe\">\n",
       "  <thead>\n",
       "    <tr style=\"text-align: right;\">\n",
       "      <th></th>\n",
       "      <th>BookID</th>\n",
       "      <th>Title</th>\n",
       "      <th>Author</th>\n",
       "      <th>Rate</th>\n",
       "      <th>Raters</th>\n",
       "      <th>Reviewers</th>\n",
       "      <th>Pages</th>\n",
       "      <th>PublishYear</th>\n",
       "      <th>GenreLink</th>\n",
       "      <th>Series</th>\n",
       "      <th>review</th>\n",
       "      <th>Genre</th>\n",
       "      <th>NumberOfPeople</th>\n",
       "    </tr>\n",
       "  </thead>\n",
       "  <tbody>\n",
       "    <tr>\n",
       "      <th>0</th>\n",
       "      <td>259072</td>\n",
       "      <td>Designing with Web Standards</td>\n",
       "      <td>Jeffrey Zeldman</td>\n",
       "      <td>4.07</td>\n",
       "      <td>2118</td>\n",
       "      <td>79</td>\n",
       "      <td>436.0</td>\n",
       "      <td>2003</td>\n",
       "      <td>/work/shelves/251102</td>\n",
       "      <td>NaN</td>\n",
       "      <td>2</td>\n",
       "      <td>to-read</td>\n",
       "      <td>1167</td>\n",
       "    </tr>\n",
       "    <tr>\n",
       "      <th>1</th>\n",
       "      <td>259072</td>\n",
       "      <td>Designing with Web Standards</td>\n",
       "      <td>Jeffrey Zeldman</td>\n",
       "      <td>4.07</td>\n",
       "      <td>2118</td>\n",
       "      <td>79</td>\n",
       "      <td>436.0</td>\n",
       "      <td>2003</td>\n",
       "      <td>/work/shelves/251102</td>\n",
       "      <td>NaN</td>\n",
       "      <td>2</td>\n",
       "      <td>design</td>\n",
       "      <td>101</td>\n",
       "    </tr>\n",
       "    <tr>\n",
       "      <th>2</th>\n",
       "      <td>259072</td>\n",
       "      <td>Designing with Web Standards</td>\n",
       "      <td>Jeffrey Zeldman</td>\n",
       "      <td>4.07</td>\n",
       "      <td>2118</td>\n",
       "      <td>79</td>\n",
       "      <td>436.0</td>\n",
       "      <td>2003</td>\n",
       "      <td>/work/shelves/251102</td>\n",
       "      <td>NaN</td>\n",
       "      <td>2</td>\n",
       "      <td>web-design</td>\n",
       "      <td>46</td>\n",
       "    </tr>\n",
       "    <tr>\n",
       "      <th>3</th>\n",
       "      <td>259072</td>\n",
       "      <td>Designing with Web Standards</td>\n",
       "      <td>Jeffrey Zeldman</td>\n",
       "      <td>4.07</td>\n",
       "      <td>2118</td>\n",
       "      <td>79</td>\n",
       "      <td>436.0</td>\n",
       "      <td>2003</td>\n",
       "      <td>/work/shelves/251102</td>\n",
       "      <td>NaN</td>\n",
       "      <td>2</td>\n",
       "      <td>currently-reading</td>\n",
       "      <td>38</td>\n",
       "    </tr>\n",
       "    <tr>\n",
       "      <th>4</th>\n",
       "      <td>259072</td>\n",
       "      <td>Designing with Web Standards</td>\n",
       "      <td>Jeffrey Zeldman</td>\n",
       "      <td>4.07</td>\n",
       "      <td>2118</td>\n",
       "      <td>79</td>\n",
       "      <td>436.0</td>\n",
       "      <td>2003</td>\n",
       "      <td>/work/shelves/251102</td>\n",
       "      <td>NaN</td>\n",
       "      <td>2</td>\n",
       "      <td>web</td>\n",
       "      <td>36</td>\n",
       "    </tr>\n",
       "  </tbody>\n",
       "</table>\n",
       "</div>"
      ],
      "text/plain": [
       "   BookID                         Title           Author  Rate  Raters  \\\n",
       "0  259072  Designing with Web Standards  Jeffrey Zeldman  4.07    2118   \n",
       "1  259072  Designing with Web Standards  Jeffrey Zeldman  4.07    2118   \n",
       "2  259072  Designing with Web Standards  Jeffrey Zeldman  4.07    2118   \n",
       "3  259072  Designing with Web Standards  Jeffrey Zeldman  4.07    2118   \n",
       "4  259072  Designing with Web Standards  Jeffrey Zeldman  4.07    2118   \n",
       "\n",
       "   Reviewers  Pages  PublishYear             GenreLink Series  review  \\\n",
       "0         79  436.0         2003  /work/shelves/251102    NaN       2   \n",
       "1         79  436.0         2003  /work/shelves/251102    NaN       2   \n",
       "2         79  436.0         2003  /work/shelves/251102    NaN       2   \n",
       "3         79  436.0         2003  /work/shelves/251102    NaN       2   \n",
       "4         79  436.0         2003  /work/shelves/251102    NaN       2   \n",
       "\n",
       "               Genre  NumberOfPeople  \n",
       "0            to-read            1167  \n",
       "1             design             101  \n",
       "2         web-design              46  \n",
       "3  currently-reading              38  \n",
       "4                web              36  "
      ]
     },
     "execution_count": 3,
     "metadata": {},
     "output_type": "execute_result"
    }
   ],
   "source": [
    "data = pd.read_csv('data/complete_data.csv')\n",
    "    \n",
    "data.head()"
   ]
  },
  {
   "cell_type": "code",
   "execution_count": 6,
   "metadata": {},
   "outputs": [
    {
     "name": "stdout",
     "output_type": "stream",
     "text": [
      "7934620 7934620 7934620\n"
     ]
    }
   ],
   "source": [
    "clustering_data = data[['BookID', 'Author', 'Series', 'Genre', 'NumberOfPeople']]\n",
    "classification_data = data[['BookID', 'Raters', 'Reviewers', 'Pages', 'PublishYear', 'review']]\n",
    "book_data = data[['BookID', 'Title']]\n",
    "\n",
    "print(len(clustering_data), len(classification_data), len(book_data))"
   ]
  },
  {
   "cell_type": "code",
   "execution_count": 7,
   "metadata": {},
   "outputs": [
    {
     "data": {
      "text/html": [
       "<div>\n",
       "<style scoped>\n",
       "    .dataframe tbody tr th:only-of-type {\n",
       "        vertical-align: middle;\n",
       "    }\n",
       "\n",
       "    .dataframe tbody tr th {\n",
       "        vertical-align: top;\n",
       "    }\n",
       "\n",
       "    .dataframe thead th {\n",
       "        text-align: right;\n",
       "    }\n",
       "</style>\n",
       "<table border=\"1\" class=\"dataframe\">\n",
       "  <thead>\n",
       "    <tr style=\"text-align: right;\">\n",
       "      <th></th>\n",
       "      <th>BookID</th>\n",
       "      <th>Author</th>\n",
       "      <th>Series</th>\n",
       "      <th>Genre</th>\n",
       "      <th>NumberOfPeople</th>\n",
       "    </tr>\n",
       "  </thead>\n",
       "  <tbody>\n",
       "    <tr>\n",
       "      <th>0</th>\n",
       "      <td>259072</td>\n",
       "      <td>Jeffrey Zeldman</td>\n",
       "      <td>NaN</td>\n",
       "      <td>to-read</td>\n",
       "      <td>1167</td>\n",
       "    </tr>\n",
       "    <tr>\n",
       "      <th>1</th>\n",
       "      <td>259072</td>\n",
       "      <td>Jeffrey Zeldman</td>\n",
       "      <td>NaN</td>\n",
       "      <td>design</td>\n",
       "      <td>101</td>\n",
       "    </tr>\n",
       "    <tr>\n",
       "      <th>2</th>\n",
       "      <td>259072</td>\n",
       "      <td>Jeffrey Zeldman</td>\n",
       "      <td>NaN</td>\n",
       "      <td>web-design</td>\n",
       "      <td>46</td>\n",
       "    </tr>\n",
       "    <tr>\n",
       "      <th>3</th>\n",
       "      <td>259072</td>\n",
       "      <td>Jeffrey Zeldman</td>\n",
       "      <td>NaN</td>\n",
       "      <td>currently-reading</td>\n",
       "      <td>38</td>\n",
       "    </tr>\n",
       "    <tr>\n",
       "      <th>4</th>\n",
       "      <td>259072</td>\n",
       "      <td>Jeffrey Zeldman</td>\n",
       "      <td>NaN</td>\n",
       "      <td>web</td>\n",
       "      <td>36</td>\n",
       "    </tr>\n",
       "  </tbody>\n",
       "</table>\n",
       "</div>"
      ],
      "text/plain": [
       "   BookID           Author Series              Genre  NumberOfPeople\n",
       "0  259072  Jeffrey Zeldman    NaN            to-read            1167\n",
       "1  259072  Jeffrey Zeldman    NaN             design             101\n",
       "2  259072  Jeffrey Zeldman    NaN         web-design              46\n",
       "3  259072  Jeffrey Zeldman    NaN  currently-reading              38\n",
       "4  259072  Jeffrey Zeldman    NaN                web              36"
      ]
     },
     "execution_count": 7,
     "metadata": {},
     "output_type": "execute_result"
    }
   ],
   "source": [
    "clustering_data.head()"
   ]
  },
  {
   "cell_type": "code",
   "execution_count": 8,
   "metadata": {},
   "outputs": [
    {
     "data": {
      "text/plain": [
       "97616"
      ]
     },
     "execution_count": 8,
     "metadata": {},
     "output_type": "execute_result"
    }
   ],
   "source": [
    "classification_data = classification_data.drop_duplicates(subset=\"BookID\")\n",
    "len(classification_data)"
   ]
  },
  {
   "cell_type": "code",
   "execution_count": 9,
   "metadata": {},
   "outputs": [
    {
     "data": {
      "text/plain": [
       "97616"
      ]
     },
     "execution_count": 9,
     "metadata": {},
     "output_type": "execute_result"
    }
   ],
   "source": [
    "book_data = book_data.drop_duplicates(subset=\"BookID\")\n",
    "len(book_data)"
   ]
  },
  {
   "cell_type": "code",
   "execution_count": 10,
   "metadata": {},
   "outputs": [],
   "source": [
    "clustering_data.to_csv('ml_data/clustering_data.csv', index=False)\n",
    "classification_data.to_csv('ml_data/classification_data.csv', index=False)\n",
    "book_data.to_csv('ml_data/book_data.csv', index=False)"
   ]
  },
  {
   "cell_type": "code",
   "execution_count": null,
   "metadata": {},
   "outputs": [],
   "source": []
  }
 ],
 "metadata": {
  "kernelspec": {
   "display_name": "Python 3",
   "language": "python",
   "name": "python3"
  },
  "language_info": {
   "codemirror_mode": {
    "name": "ipython",
    "version": 3
   },
   "file_extension": ".py",
   "mimetype": "text/x-python",
   "name": "python",
   "nbconvert_exporter": "python",
   "pygments_lexer": "ipython3",
   "version": "3.7.4"
  }
 },
 "nbformat": 4,
 "nbformat_minor": 4
}
