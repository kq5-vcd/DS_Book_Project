{
 "cells": [
  {
   "cell_type": "code",
   "execution_count": 2,
   "id": "41a90d7f",
   "metadata": {},
   "outputs": [],
   "source": [
    "import pandas as pd"
   ]
  },
  {
   "cell_type": "code",
   "execution_count": 3,
   "id": "3ef65082",
   "metadata": {},
   "outputs": [],
   "source": [
    "for i in range(1,6):\n",
    "    books = pd.read_csv(\"books_\" + str(i) + \".csv\")\n",
    "    print(i, len(books))\n",
    "    \n",
    "    clean_v1 = data[~data.GenreLink.isnull()]\n",
    "    print(len(clean_v1))\n",
    "    clean_v2 = clean_v1.drop_duplicates(subset=\"BookID\")\n",
    "    print(len(clean_v2))\n",
    "    \n",
    "    clean_v2[\"Raters\"] = clean_v2.loc[:, (\"5 stars\", \"4 stars\", \"3 stars\", \"2 stars\", \"1 star\")].apply(sum, axis=1)\n",
    "    clean_v3 = clean_v2[clean_v2[\"Raters\"] > 150]\n",
    "    print(len(clean_v3))\n",
    "    \n",
    "    clean_v3['GenreLink'] = clean_v3.GenreLink.str.split('/').str[-1]\n",
    "    clean_v3.drop(columns=['Raters'])\n",
    "    \n",
    "    clean_v3.to_csv(\"books_\" + str(i) + \".csv\", index=False)\n",
    "    print(str(i) )"
   ]
  },
  {
   "cell_type": "code",
   "execution_count": null,
   "id": "d9c16e0e",
   "metadata": {},
   "outputs": [],
   "source": []
  }
 ],
 "metadata": {
  "kernelspec": {
   "display_name": "Python 3",
   "language": "python",
   "name": "python3"
  },
  "language_info": {
   "codemirror_mode": {
    "name": "ipython",
    "version": 3
   },
   "file_extension": ".py",
   "mimetype": "text/x-python",
   "name": "python",
   "nbconvert_exporter": "python",
   "pygments_lexer": "ipython3",
   "version": "3.9.2"
  }
 },
 "nbformat": 4,
 "nbformat_minor": 5
}
